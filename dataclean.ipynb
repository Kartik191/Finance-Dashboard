{
 "cells": [
  {
   "cell_type": "code",
   "execution_count": 2,
   "id": "131159dc",
   "metadata": {},
   "outputs": [],
   "source": [
    "import pandas as pd"
   ]
  },
  {
   "cell_type": "markdown",
   "id": "d84cb0b9",
   "metadata": {},
   "source": [
    "KPIs"
   ]
  },
  {
   "cell_type": "code",
   "execution_count": 4,
   "id": "90a7aee9",
   "metadata": {},
   "outputs": [],
   "source": [
    "kpis = pd.read_json('kpis.json')\n",
    "daily_df = pd.json_normalize(kpis.loc[0, 'dailyData'])\n",
    "daily_df.to_json('kpis_daily.json', orient='records', indent=2)\n"
   ]
  },
  {
   "cell_type": "code",
   "execution_count": 31,
   "id": "c1a80c4a",
   "metadata": {},
   "outputs": [
    {
     "data": {
      "application/vnd.microsoft.datawrangler.viewer.v0+json": {
       "columns": [
        {
         "name": "index",
         "rawType": "int64",
         "type": "integer"
        },
        {
         "name": "date",
         "rawType": "object",
         "type": "unknown"
        },
        {
         "name": "revenue",
         "rawType": "float32",
         "type": "float"
        },
        {
         "name": "expense",
         "rawType": "float32",
         "type": "float"
        },
        {
         "name": "profit",
         "rawType": "float32",
         "type": "float"
        },
        {
         "name": "month",
         "rawType": "int32",
         "type": "integer"
        }
       ],
       "ref": "f426ec8d-9fb7-436a-9d7c-24c6566cd196",
       "rows": [
        [
         "0",
         "2022-01-02",
         "1498.94",
         "430.64",
         "1068.3",
         "1"
        ],
        [
         "1",
         "2022-01-03",
         "935.08",
         "329.32",
         "605.76",
         "1"
        ],
        [
         "2",
         "2022-01-04",
         "1350.96",
         "562.49",
         "788.47",
         "1"
        ],
        [
         "3",
         "2022-01-05",
         "1244.33",
         "679.32",
         "565.01",
         "1"
        ],
        [
         "4",
         "2022-01-06",
         "1132.99",
         "439.8",
         "693.19",
         "1"
        ],
        [
         "5",
         "2022-01-07",
         "1158.31",
         "336.12",
         "822.19",
         "1"
        ],
        [
         "6",
         "2022-01-08",
         "1184.66",
         "516.1",
         "668.56",
         "1"
        ],
        [
         "7",
         "2022-01-09",
         "637.32",
         "635.06",
         "2.26",
         "1"
        ],
        [
         "8",
         "2022-01-10",
         "1315.21",
         "560.12",
         "755.09",
         "1"
        ],
        [
         "9",
         "2022-01-11",
         "1093.06",
         "540.05",
         "553.01",
         "1"
        ],
        [
         "10",
         "2022-01-12",
         "1477.77",
         "487.16",
         "990.61",
         "1"
        ],
        [
         "11",
         "2022-01-13",
         "1076.09",
         "616.29",
         "459.8",
         "1"
        ],
        [
         "12",
         "2022-01-14",
         "1130.96",
         "392.17",
         "738.79",
         "1"
        ],
        [
         "13",
         "2022-01-15",
         "846.42",
         "548.38",
         "298.04",
         "1"
        ],
        [
         "14",
         "2022-01-16",
         "1182.35",
         "366.72",
         "815.63",
         "1"
        ],
        [
         "15",
         "2022-01-17",
         "1046.61",
         "481.56",
         "565.05",
         "1"
        ],
        [
         "16",
         "2022-01-18",
         "601.65",
         "452.75",
         "148.9",
         "1"
        ],
        [
         "17",
         "2022-01-19",
         "798.33",
         "351.23",
         "447.1",
         "1"
        ],
        [
         "18",
         "2022-01-20",
         "1499.37",
         "340.85",
         "1158.52",
         "1"
        ],
        [
         "19",
         "2022-01-21",
         "1462.26",
         "630.31",
         "831.95",
         "1"
        ],
        [
         "20",
         "2022-01-22",
         "1447.38",
         "476.59",
         "970.79",
         "1"
        ],
        [
         "21",
         "2022-01-23",
         "1194.96",
         "482.85",
         "712.11",
         "1"
        ],
        [
         "22",
         "2022-01-24",
         "713.11",
         "754.33",
         "-41.22",
         "1"
        ],
        [
         "23",
         "2022-01-25",
         "1084.48",
         "547.37",
         "537.11",
         "1"
        ],
        [
         "24",
         "2022-01-26",
         "819.53",
         "653.59",
         "165.94",
         "1"
        ],
        [
         "25",
         "2022-01-27",
         "1306.61",
         "636.87",
         "669.74",
         "1"
        ],
        [
         "26",
         "2022-01-28",
         "1029.78",
         "719.46",
         "310.32",
         "1"
        ],
        [
         "27",
         "2022-01-29",
         "1415.18",
         "387.49",
         "1027.69",
         "1"
        ],
        [
         "28",
         "2022-01-30",
         "845.38",
         "533.93",
         "311.45",
         "1"
        ],
        [
         "29",
         "2022-01-31",
         "764.69",
         "762.35",
         "2.34",
         "1"
        ],
        [
         "30",
         "2022-02-01",
         "616.49",
         "658.92",
         "-42.43",
         "2"
        ],
        [
         "31",
         "2022-02-02",
         "677.71",
         "754.69",
         "-76.98",
         "2"
        ],
        [
         "32",
         "2022-02-03",
         "576.99",
         "395.43",
         "181.56",
         "2"
        ],
        [
         "33",
         "2022-02-04",
         "713.58",
         "733.27",
         "-19.69",
         "2"
        ],
        [
         "34",
         "2022-02-05",
         "714.18",
         "336.24",
         "377.94",
         "2"
        ],
        [
         "35",
         "2022-02-06",
         "807.64",
         "534.49",
         "273.15",
         "2"
        ],
        [
         "36",
         "2022-02-07",
         "824.4",
         "743.82",
         "80.58",
         "2"
        ],
        [
         "37",
         "2022-02-08",
         "975.3",
         "307.51",
         "667.79",
         "2"
        ],
        [
         "38",
         "2022-02-09",
         "1098.58",
         "615.31",
         "483.27",
         "2"
        ],
        [
         "39",
         "2022-02-10",
         "1119.34",
         "677.04",
         "442.3",
         "2"
        ],
        [
         "40",
         "2022-02-11",
         "1232.39",
         "664.69",
         "567.7",
         "2"
        ],
        [
         "41",
         "2022-02-12",
         "1405.21",
         "422.57",
         "982.64",
         "2"
        ],
        [
         "42",
         "2022-02-13",
         "1343.47",
         "350.77",
         "992.7",
         "2"
        ],
        [
         "43",
         "2022-02-14",
         "1495.81",
         "301.39",
         "1194.42",
         "2"
        ],
        [
         "44",
         "2022-02-15",
         "1131.97",
         "597.06",
         "534.91",
         "2"
        ],
        [
         "45",
         "2022-02-16",
         "1174.17",
         "685.08",
         "489.09",
         "2"
        ],
        [
         "46",
         "2022-02-17",
         "702.38",
         "671.23",
         "31.15",
         "2"
        ],
        [
         "47",
         "2022-02-18",
         "1440.95",
         "539.55",
         "901.4",
         "2"
        ],
        [
         "48",
         "2022-02-19",
         "1272.87",
         "703.02",
         "569.85",
         "2"
        ],
        [
         "49",
         "2022-02-20",
         "530.16",
         "305.75",
         "224.41",
         "2"
        ]
       ],
       "shape": {
        "columns": 5,
        "rows": 365
       }
      },
      "text/html": [
       "<div>\n",
       "<style scoped>\n",
       "    .dataframe tbody tr th:only-of-type {\n",
       "        vertical-align: middle;\n",
       "    }\n",
       "\n",
       "    .dataframe tbody tr th {\n",
       "        vertical-align: top;\n",
       "    }\n",
       "\n",
       "    .dataframe thead th {\n",
       "        text-align: right;\n",
       "    }\n",
       "</style>\n",
       "<table border=\"1\" class=\"dataframe\">\n",
       "  <thead>\n",
       "    <tr style=\"text-align: right;\">\n",
       "      <th></th>\n",
       "      <th>date</th>\n",
       "      <th>revenue</th>\n",
       "      <th>expense</th>\n",
       "      <th>profit</th>\n",
       "      <th>month</th>\n",
       "    </tr>\n",
       "  </thead>\n",
       "  <tbody>\n",
       "    <tr>\n",
       "      <th>0</th>\n",
       "      <td>2022-01-02</td>\n",
       "      <td>1498.939941</td>\n",
       "      <td>430.640015</td>\n",
       "      <td>1068.300049</td>\n",
       "      <td>1</td>\n",
       "    </tr>\n",
       "    <tr>\n",
       "      <th>1</th>\n",
       "      <td>2022-01-03</td>\n",
       "      <td>935.080017</td>\n",
       "      <td>329.320007</td>\n",
       "      <td>605.760010</td>\n",
       "      <td>1</td>\n",
       "    </tr>\n",
       "    <tr>\n",
       "      <th>2</th>\n",
       "      <td>2022-01-04</td>\n",
       "      <td>1350.959961</td>\n",
       "      <td>562.489990</td>\n",
       "      <td>788.469971</td>\n",
       "      <td>1</td>\n",
       "    </tr>\n",
       "    <tr>\n",
       "      <th>3</th>\n",
       "      <td>2022-01-05</td>\n",
       "      <td>1244.329956</td>\n",
       "      <td>679.320007</td>\n",
       "      <td>565.010010</td>\n",
       "      <td>1</td>\n",
       "    </tr>\n",
       "    <tr>\n",
       "      <th>4</th>\n",
       "      <td>2022-01-06</td>\n",
       "      <td>1132.989990</td>\n",
       "      <td>439.799988</td>\n",
       "      <td>693.190002</td>\n",
       "      <td>1</td>\n",
       "    </tr>\n",
       "    <tr>\n",
       "      <th>...</th>\n",
       "      <td>...</td>\n",
       "      <td>...</td>\n",
       "      <td>...</td>\n",
       "      <td>...</td>\n",
       "      <td>...</td>\n",
       "    </tr>\n",
       "    <tr>\n",
       "      <th>360</th>\n",
       "      <td>2022-12-28</td>\n",
       "      <td>1049.910034</td>\n",
       "      <td>583.099976</td>\n",
       "      <td>466.809998</td>\n",
       "      <td>12</td>\n",
       "    </tr>\n",
       "    <tr>\n",
       "      <th>361</th>\n",
       "      <td>2022-12-29</td>\n",
       "      <td>1110.050049</td>\n",
       "      <td>387.959991</td>\n",
       "      <td>722.090027</td>\n",
       "      <td>12</td>\n",
       "    </tr>\n",
       "    <tr>\n",
       "      <th>362</th>\n",
       "      <td>2022-12-30</td>\n",
       "      <td>1403.439941</td>\n",
       "      <td>527.349976</td>\n",
       "      <td>876.090027</td>\n",
       "      <td>12</td>\n",
       "    </tr>\n",
       "    <tr>\n",
       "      <th>363</th>\n",
       "      <td>2022-12-31</td>\n",
       "      <td>549.520020</td>\n",
       "      <td>577.919983</td>\n",
       "      <td>-28.400000</td>\n",
       "      <td>12</td>\n",
       "    </tr>\n",
       "    <tr>\n",
       "      <th>364</th>\n",
       "      <td>2023-01-01</td>\n",
       "      <td>832.700012</td>\n",
       "      <td>664.409973</td>\n",
       "      <td>168.289993</td>\n",
       "      <td>1</td>\n",
       "    </tr>\n",
       "  </tbody>\n",
       "</table>\n",
       "<p>365 rows × 5 columns</p>\n",
       "</div>"
      ],
      "text/plain": [
       "           date      revenue     expense       profit  month\n",
       "0    2022-01-02  1498.939941  430.640015  1068.300049      1\n",
       "1    2022-01-03   935.080017  329.320007   605.760010      1\n",
       "2    2022-01-04  1350.959961  562.489990   788.469971      1\n",
       "3    2022-01-05  1244.329956  679.320007   565.010010      1\n",
       "4    2022-01-06  1132.989990  439.799988   693.190002      1\n",
       "..          ...          ...         ...          ...    ...\n",
       "360  2022-12-28  1049.910034  583.099976   466.809998     12\n",
       "361  2022-12-29  1110.050049  387.959991   722.090027     12\n",
       "362  2022-12-30  1403.439941  527.349976   876.090027     12\n",
       "363  2022-12-31   549.520020  577.919983   -28.400000     12\n",
       "364  2023-01-01   832.700012  664.409973   168.289993      1\n",
       "\n",
       "[365 rows x 5 columns]"
      ]
     },
     "execution_count": 31,
     "metadata": {},
     "output_type": "execute_result"
    }
   ],
   "source": [
    "kpi = pd.read_json('kpis_daily.json')\n",
    "\n",
    "kpi['revenue'] = kpi['revenue'].str.replace('$','')\n",
    "kpi['expenses'] = kpi['expenses'].str.replace('$','')\n",
    "\n",
    "kpi['revenue'] = kpi['revenue'].astype('float32')\n",
    "kpi['expenses'] = kpi['expenses'].astype('float32')\n",
    "\n",
    "cols = list(kpi.columns)\n",
    "cols[cols.index('expenses')] = 'expense'\n",
    "colsold = list(kpi.columns)\n",
    "\n",
    "colDict = {}\n",
    "for i in range(len(cols)):\n",
    "    colDict[colsold[i]] = cols[i]\n",
    "\n",
    "kpi.rename(colDict, axis = 1, inplace=True)\n",
    "kpi['profit'] = round((kpi['revenue'] - kpi['expense']),2)\n",
    "kpi['month'] = kpi['date'].dt.month\n",
    "kpi['date'] = kpi['date'].dt.date\n",
    "kpi "
   ]
  },
  {
   "cell_type": "code",
   "execution_count": 33,
   "id": "daa5295a",
   "metadata": {},
   "outputs": [],
   "source": [
    "kpi.to_json('./repo/data/kpis_daily.json',orient='records',indent=2)"
   ]
  },
  {
   "cell_type": "code",
   "execution_count": 57,
   "id": "981d5be0",
   "metadata": {},
   "outputs": [
    {
     "data": {
      "application/vnd.microsoft.datawrangler.viewer.v0+json": {
       "columns": [
        {
         "name": "index",
         "rawType": "int64",
         "type": "integer"
        },
        {
         "name": "month",
         "rawType": "object",
         "type": "string"
        },
        {
         "name": "revenue",
         "rawType": "float32",
         "type": "float"
        },
        {
         "name": "expense",
         "rawType": "float32",
         "type": "float"
        },
        {
         "name": "opexp",
         "rawType": "float32",
         "type": "float"
        },
        {
         "name": "nonopexp",
         "rawType": "float32",
         "type": "float"
        }
       ],
       "ref": "1bf1b7ce-dce5-4871-8256-3627eb6b152c",
       "rows": [
        [
         "0",
         "january",
         "15989.64",
         "14231.73",
         "10340.03",
         "4891.7"
        ],
        [
         "1",
         "february",
         "15832.77",
         "11677.84",
         "7006.69",
         "8661.15"
        ],
        [
         "2",
         "march",
         "16481.27",
         "14664.03",
         "8797.42",
         "7866.61"
        ],
        [
         "3",
         "april",
         "18229.38",
         "12336.52",
         "7401.91",
         "2934.61"
        ],
        [
         "4",
         "may",
         "17401.79",
         "11160.61",
         "4296.37",
         "4864.24"
        ],
        [
         "5",
         "june",
         "18274.03",
         "12311.61",
         "7386.96",
         "9924.65"
        ],
        [
         "6",
         "july",
         "19349.98",
         "15431.81",
         "9258.09",
         "7173.72"
        ],
        [
         "7",
         "august",
         "16647.29",
         "13213.71",
         "3127.82",
         "5085.89"
        ],
        [
         "8",
         "september",
         "19344.07",
         "17405.92",
         "10443.55",
         "4962.37"
        ],
        [
         "9",
         "october",
         "21160.22",
         "12990.58",
         "3594.35",
         "9396.23"
        ],
        [
         "10",
         "november",
         "22655.03",
         "17140.8",
         "10284.48",
         "3856.32"
        ],
        [
         "11",
         "december",
         "17757.75",
         "15266.97",
         "9160.18",
         "4106.79"
        ]
       ],
       "shape": {
        "columns": 5,
        "rows": 12
       }
      },
      "text/html": [
       "<div>\n",
       "<style scoped>\n",
       "    .dataframe tbody tr th:only-of-type {\n",
       "        vertical-align: middle;\n",
       "    }\n",
       "\n",
       "    .dataframe tbody tr th {\n",
       "        vertical-align: top;\n",
       "    }\n",
       "\n",
       "    .dataframe thead th {\n",
       "        text-align: right;\n",
       "    }\n",
       "</style>\n",
       "<table border=\"1\" class=\"dataframe\">\n",
       "  <thead>\n",
       "    <tr style=\"text-align: right;\">\n",
       "      <th></th>\n",
       "      <th>month</th>\n",
       "      <th>revenue</th>\n",
       "      <th>expense</th>\n",
       "      <th>opexp</th>\n",
       "      <th>nonopexp</th>\n",
       "    </tr>\n",
       "  </thead>\n",
       "  <tbody>\n",
       "    <tr>\n",
       "      <th>0</th>\n",
       "      <td>january</td>\n",
       "      <td>15989.639648</td>\n",
       "      <td>14231.730469</td>\n",
       "      <td>10340.030273</td>\n",
       "      <td>4891.700195</td>\n",
       "    </tr>\n",
       "    <tr>\n",
       "      <th>1</th>\n",
       "      <td>february</td>\n",
       "      <td>15832.769531</td>\n",
       "      <td>11677.839844</td>\n",
       "      <td>7006.689941</td>\n",
       "      <td>8661.150391</td>\n",
       "    </tr>\n",
       "    <tr>\n",
       "      <th>2</th>\n",
       "      <td>march</td>\n",
       "      <td>16481.269531</td>\n",
       "      <td>14664.030273</td>\n",
       "      <td>8797.419922</td>\n",
       "      <td>7866.609863</td>\n",
       "    </tr>\n",
       "    <tr>\n",
       "      <th>3</th>\n",
       "      <td>april</td>\n",
       "      <td>18229.380859</td>\n",
       "      <td>12336.519531</td>\n",
       "      <td>7401.910156</td>\n",
       "      <td>2934.610107</td>\n",
       "    </tr>\n",
       "    <tr>\n",
       "      <th>4</th>\n",
       "      <td>may</td>\n",
       "      <td>17401.789062</td>\n",
       "      <td>11160.610352</td>\n",
       "      <td>4296.370117</td>\n",
       "      <td>4864.240234</td>\n",
       "    </tr>\n",
       "    <tr>\n",
       "      <th>5</th>\n",
       "      <td>june</td>\n",
       "      <td>18274.029297</td>\n",
       "      <td>12311.610352</td>\n",
       "      <td>7386.959961</td>\n",
       "      <td>9924.650391</td>\n",
       "    </tr>\n",
       "    <tr>\n",
       "      <th>6</th>\n",
       "      <td>july</td>\n",
       "      <td>19349.980469</td>\n",
       "      <td>15431.809570</td>\n",
       "      <td>9258.089844</td>\n",
       "      <td>7173.720215</td>\n",
       "    </tr>\n",
       "    <tr>\n",
       "      <th>7</th>\n",
       "      <td>august</td>\n",
       "      <td>16647.289062</td>\n",
       "      <td>13213.709961</td>\n",
       "      <td>3127.820068</td>\n",
       "      <td>5085.890137</td>\n",
       "    </tr>\n",
       "    <tr>\n",
       "      <th>8</th>\n",
       "      <td>september</td>\n",
       "      <td>19344.070312</td>\n",
       "      <td>17405.919922</td>\n",
       "      <td>10443.549805</td>\n",
       "      <td>4962.370117</td>\n",
       "    </tr>\n",
       "    <tr>\n",
       "      <th>9</th>\n",
       "      <td>october</td>\n",
       "      <td>21160.220703</td>\n",
       "      <td>12990.580078</td>\n",
       "      <td>3594.350098</td>\n",
       "      <td>9396.230469</td>\n",
       "    </tr>\n",
       "    <tr>\n",
       "      <th>10</th>\n",
       "      <td>november</td>\n",
       "      <td>22655.029297</td>\n",
       "      <td>17140.800781</td>\n",
       "      <td>10284.480469</td>\n",
       "      <td>3856.320068</td>\n",
       "    </tr>\n",
       "    <tr>\n",
       "      <th>11</th>\n",
       "      <td>december</td>\n",
       "      <td>17757.750000</td>\n",
       "      <td>15266.969727</td>\n",
       "      <td>9160.179688</td>\n",
       "      <td>4106.790039</td>\n",
       "    </tr>\n",
       "  </tbody>\n",
       "</table>\n",
       "</div>"
      ],
      "text/plain": [
       "        month       revenue       expense         opexp     nonopexp\n",
       "0     january  15989.639648  14231.730469  10340.030273  4891.700195\n",
       "1    february  15832.769531  11677.839844   7006.689941  8661.150391\n",
       "2       march  16481.269531  14664.030273   8797.419922  7866.609863\n",
       "3       april  18229.380859  12336.519531   7401.910156  2934.610107\n",
       "4         may  17401.789062  11160.610352   4296.370117  4864.240234\n",
       "5        june  18274.029297  12311.610352   7386.959961  9924.650391\n",
       "6        july  19349.980469  15431.809570   9258.089844  7173.720215\n",
       "7      august  16647.289062  13213.709961   3127.820068  5085.890137\n",
       "8   september  19344.070312  17405.919922  10443.549805  4962.370117\n",
       "9     october  21160.220703  12990.580078   3594.350098  9396.230469\n",
       "10   november  22655.029297  17140.800781  10284.480469  3856.320068\n",
       "11   december  17757.750000  15266.969727   9160.179688  4106.790039"
      ]
     },
     "execution_count": 57,
     "metadata": {},
     "output_type": "execute_result"
    }
   ],
   "source": [
    "kpim = pd.json_normalize(kpis.loc[0, 'monthlyData'])\n",
    "\n",
    "kpim['revenue'] = kpim['revenue'].str.replace('$','')\n",
    "kpim['expenses'] = kpim['expenses'].str.replace('$','')\n",
    "kpim['operationalExpenses'] = kpim['operationalExpenses'].str.replace('$','')\n",
    "kpim['nonOperationalExpenses'] = kpim['nonOperationalExpenses'].str.replace('$','')\n",
    "\n",
    "kpim['revenue'] = kpim['revenue'].astype('float32')\n",
    "kpim['expenses'] = kpim['expenses'].astype('float32')\n",
    "kpim['operationalExpenses'] = kpim['operationalExpenses'].astype('float32')\n",
    "kpim['nonOperationalExpenses'] = kpim['nonOperationalExpenses'].astype('float32')\n",
    "\n",
    "cols = list(kpim.columns)\n",
    "cols[cols.index('expenses')] = 'expense'\n",
    "cols[cols.index('operationalExpenses')] = 'opexp'\n",
    "cols[cols.index('nonOperationalExpenses')] = 'nonopexp'\n",
    "\n",
    "colsold = list(kpim.columns)\n",
    "\n",
    "colDict = {}\n",
    "for i in range(len(cols)):\n",
    "    colDict[colsold[i]] = cols[i]\n",
    "\n",
    "kpim.rename(colDict, axis = 1, inplace=True)\n",
    "\n",
    "kpim"
   ]
  },
  {
   "cell_type": "code",
   "execution_count": 58,
   "id": "e0f204c0",
   "metadata": {},
   "outputs": [],
   "source": [
    "kpim.to_json('./repo/data/kpis_monthly.json',orient='records',indent=2)"
   ]
  },
  {
   "cell_type": "markdown",
   "id": "b640d4a3",
   "metadata": {},
   "source": [
    "Products"
   ]
  },
  {
   "cell_type": "code",
   "execution_count": 43,
   "id": "6cfe961a",
   "metadata": {},
   "outputs": [
    {
     "data": {
      "application/vnd.microsoft.datawrangler.viewer.v0+json": {
       "columns": [
        {
         "name": "index",
         "rawType": "int64",
         "type": "integer"
        },
        {
         "name": "_id",
         "rawType": "object",
         "type": "string"
        },
        {
         "name": "price",
         "rawType": "float32",
         "type": "float"
        },
        {
         "name": "expense",
         "rawType": "float32",
         "type": "float"
        },
        {
         "name": "transactions",
         "rawType": "object",
         "type": "unknown"
        },
        {
         "name": "transactions_count",
         "rawType": "int16",
         "type": "integer"
        }
       ],
       "ref": "15ccb4ac-39e0-4cbd-bd1c-3cbf107edfe8",
       "rows": [
        [
         "0",
         "63bf7ac9f03239e002001600",
         "43.41",
         "5.97",
         "['63bf7ccef03239554c002449', '63bf7ccef03239855d00155c', '63bf7ccef032397b4f001603', '63bf7ccef03239eb9d0016d4']",
         "4"
        ],
        [
         "1",
         "63bf7ac9f03239e002001601",
         "60.13",
         "9.12",
         "['63bf7ccef032396a8e001696', '63bf7ccef0323922d2001694', '63bf7ccef03239855d001557', '63bf7ccef03239554c00244d']",
         "4"
        ],
        [
         "2",
         "63bf7ac9f03239e002001602",
         "195.05",
         "6.72",
         "['63bf7ccef03239e002001606', '63bf7ccef0323922d200169a']",
         "2"
        ],
        [
         "3",
         "63bf7ac9f03239e002001603",
         "46.25",
         "9.95",
         "['63bf7ccef03239aec900155b', '63bf7ccef03239eb9d0016d3', '63bf7ccef03239aec9001559']",
         "3"
        ],
        [
         "4",
         "63bf7ac9f03239e002001604",
         "87.41",
         "7.97",
         "['63bf7ccef03239855d00155d', '63bf7ccef03239855d001561', '63bf7ccef03239e00200160e', '63bf7ccef0323922d2001697', '63bf7ccef032394f5f002442']",
         "5"
        ],
        [
         "5",
         "63bf7ac9f03239e002001605",
         "73.28",
         "7.85",
         "['63bf7ccef03239966c0016a0', '63bf7ccef03239966c00169f', '63bf7ccef032394cbd0016a0', '63bf7ccef03239554c002453', '63bf7ccef0323901e6001557']",
         "5"
        ],
        [
         "6",
         "63bf7ac9f03239343e00169b",
         "130.65",
         "7.95",
         "['63bf7ccef0323901e6001560', '63bf7ccef032396d89000013']",
         "2"
        ],
        [
         "7",
         "63bf7ac9f03239343e00169c",
         "198.54",
         "9.5",
         "['63bf7ccef03239eb9d0016d9', '63bf7ccef032396a8e001696', '63bf7ccef03239cf1b0016a7', '63bf7ccef0323901e6001562']",
         "4"
        ],
        [
         "8",
         "63bf7ac9f03239343e00169d",
         "147.32",
         "5.86",
         "['63bf7ccef03239343e0016a9', '63bf7ccef03239f920001690']",
         "2"
        ],
        [
         "9",
         "63bf7ac9f03239343e00169e",
         "187.22",
         "5.82",
         "['63bf7ccef03239aec9001560', '63bf7ccef032396d8900000f', '63bf7ccef0323922d2001697']",
         "3"
        ],
        [
         "10",
         "63bf7ac9f03239343e00169f",
         "162.43",
         "3.28",
         "['63bf7ccef032395ccf001697', '63bf7ccef0323901e600155e', '63bf7ccef03239aec9001559']",
         "3"
        ],
        [
         "11",
         "63bf7ac9f03239343e0016a0",
         "30.09",
         "8.55",
         "['63bf7ccef03239343e0016a3']",
         "1"
        ],
        [
         "12",
         "63bf7ac9f0323901e6001551",
         "31.07",
         "4.98",
         "['63bf7ccef032395ccf001695', '63bf7ccef03239eb9d0016dd', '63bf7ccef032397b4f001606', '63bf7ccef03239855d00155b', '63bf7ccef032397b4f001604']",
         "5"
        ],
        [
         "13",
         "63bf7ac9f0323901e6001552",
         "12.21",
         "6.82",
         "['63bf7ccef03239855d00155c', '63bf7ccef032395ccf001696', '63bf7ccef03239cf1b0016a2', '63bf7ccef032396a8e00169a', '63bf7ccef03239966c00169a']",
         "5"
        ],
        [
         "14",
         "63bf7ac9f0323901e6001553",
         "76.31",
         "3.84",
         "['63bf7ccef03239e002001608', '63bf7ccef0323922d200169b', '63bf7ccef03239eb9d0016e6']",
         "3"
        ],
        [
         "15",
         "63bf7ac9f0323901e6001554",
         "169.87",
         "8.35",
         "['63bf7ccef03239eb9d0016d5', '63bf7ccef03239966c00169e', '63bf7ccef0323974200016a7']",
         "3"
        ],
        [
         "16",
         "63bf7ac9f0323901e6001555",
         "187.36",
         "8.12",
         "['63bf7ccef032394f5f00243a', '63bf7ccef03239eb9d0016de', '63bf7ccef03239f920001696']",
         "3"
        ],
        [
         "17",
         "63bf7ac9f0323901e6001556",
         "67.29",
         "6.32",
         "['63bf7ccef032396d89000015', '63bf7ccef03239f920001690', '63bf7ccef03239eb9d0016d2']",
         "3"
        ],
        [
         "18",
         "63bf7ac9f032394cbd001699",
         "85.35",
         "9.33",
         "['63bf7ccef03239aec9001558', '63bf7ccef03239f92000169a', '63bf7ccef03239742000169d', '63bf7ccef03239554c00244a']",
         "4"
        ],
        [
         "19",
         "63bf7ac9f032394cbd00169a",
         "35.75",
         "9.93",
         "['63bf7ccef03239554c002453', '63bf7ccef03239e002001608', '63bf7ccef0323937a500168d']",
         "3"
        ],
        [
         "20",
         "63bf7ac9f032394cbd00169b",
         "59.8",
         "1.51",
         "['63bf7ccef0323937a5001690', '63bf7ccef03239e00200160b', '63bf7ccef032394f5f002441', '63bf7ccef0323975d60016a3', '63bf7ccef032395ccf00169f']",
         "5"
        ],
        [
         "21",
         "63bf7ac9f032394cbd00169c",
         "86.45",
         "3.55",
         "['63bf7ccef032396d8900000f']",
         "1"
        ],
        [
         "22",
         "63bf7ac9f032394cbd00169d",
         "142.21",
         "1.85",
         "['63bf7ccef032396a8e001698', '63bf7ccef03239eb9d0016d0']",
         "2"
        ],
        [
         "23",
         "63bf7ac9f032394cbd00169e",
         "10.01",
         "5.61",
         "['63bf7ccef03239e002001610', '63bf7ccef03239f920001699', '63bf7ccef03239966c00169a', '63bf7ccef03239e002001611', '63bf7ccef032394cbd00169f']",
         "5"
        ],
        [
         "24",
         "63bf7ac9f03239cf1b001698",
         "112.78",
         "6.74",
         "['63bf7ccef032396a8e00169d', '63bf7ccef032396a8e001695']",
         "2"
        ],
        [
         "25",
         "63bf7ac9f03239cf1b001699",
         "156.34",
         "6.26",
         "['63bf7ccef03239e002001606']",
         "1"
        ],
        [
         "26",
         "63bf7ac9f03239cf1b00169a",
         "119.34",
         "8.62",
         "['63bf7ccef0323975d600169e', '63bf7ccef03239554c00244b']",
         "2"
        ],
        [
         "27",
         "63bf7ac9f03239cf1b00169b",
         "87.49",
         "8.74",
         "['63bf7ccef03239343e0016ac', '63bf7ccef0323937a5001698']",
         "2"
        ],
        [
         "28",
         "63bf7ac9f03239cf1b00169c",
         "34.52",
         "2.31",
         "['63bf7ccef03239aec9001562', '63bf7ccef0323937a500168d']",
         "2"
        ],
        [
         "29",
         "63bf7ac9f03239cf1b00169d",
         "90.83",
         "7.83",
         "['63bf7ccef0323975d6001698', '63bf7ccef032394f5f002439', '63bf7ccef03239e00200160f', '63bf7ccef0323975d600169b', '63bf7ccef03239aec9001557']",
         "5"
        ],
        [
         "30",
         "63bf7ac9f03239aec9001551",
         "181.98",
         "3.02",
         "['63bf7ccef032395ccf001698', '63bf7ccef03239343e0016ab', '63bf7ccef0323975d60016a2', '63bf7ccef03239cf1b0016a7']",
         "4"
        ],
        [
         "31",
         "63bf7ac9f03239aec9001552",
         "62.17",
         "9.52",
         "['63bf7ccef03239855d00155e', '63bf7ccef03239966c00169e']",
         "2"
        ],
        [
         "32",
         "63bf7ac9f03239aec9001553",
         "83.76",
         "1.09",
         "['63bf7ccef0323975d60016a3', '63bf7ccef032394f5f002444', '63bf7ccef03239554c002450', '63bf7ccef032395ccf00169b']",
         "4"
        ],
        [
         "33",
         "63bf7ac9f03239aec9001554",
         "62.47",
         "2.38",
         "['63bf7ccef03239eb9d0016e4', '63bf7ccef03239eb9d0016d0', '63bf7ccef03239966c00169b', '63bf7ccef03239eb9d0016d5', '63bf7ccef0323975d6001698']",
         "5"
        ],
        [
         "34",
         "63bf7ac9f03239aec9001555",
         "54.68",
         "5.12",
         "['63bf7ccef032396d89000013', '63bf7ccef0323974200016a7', '63bf7ccef0323922d2001699', '63bf7ccef03239e002001608']",
         "4"
        ],
        [
         "35",
         "63bf7ac9f03239aec9001556",
         "91.72",
         "4.73",
         "['63bf7ccef03239cf1b0016a3', '63bf7ccef032394f5f00243e', '63bf7ccef0323974200016a2']",
         "3"
        ],
        [
         "36",
         "63bf7ac9f03239554c002443",
         "159.65",
         "3.79",
         "['63bf7ccef03239554c00244e', '63bf7ccef03239855d001561', '63bf7ccef032395ccf00169b', '63bf7ccef03239343e0016aa', '63bf7ccef032394f5f002439']",
         "5"
        ],
        [
         "37",
         "63bf7ac9f03239554c002444",
         "190.89",
         "5.24",
         "['63bf7ccef03239343e0016a2', '63bf7ccef0323974200016a3', '63bf7ccef0323922d200169c', '63bf7ccef03239966c00169e', '63bf7ccef03239cf1b0016a7']",
         "5"
        ],
        [
         "38",
         "63bf7ac9f03239554c002445",
         "155.13",
         "1.68",
         "['63bf7ccef03239cf1b00169f', '63bf7ccef03239966c00169f', '63bf7ccef0323937a5001697', '63bf7ccef0323975d60016a2']",
         "4"
        ],
        [
         "39",
         "63bf7ac9f03239554c002446",
         "43.82",
         "7.85",
         "['63bf7ccef03239eb9d0016dd', '63bf7ccef0323901e6001557']",
         "2"
        ],
        [
         "40",
         "63bf7ac9f03239554c002447",
         "58.31",
         "9.94",
         "['63bf7ccef03239cf1b0016a6', '63bf7ccef03239966c00169a', '63bf7ccef0323974200016a1', '63bf7ccef0323975d600169c']",
         "4"
        ],
        [
         "41",
         "63bf7ac9f03239554c002448",
         "138.47",
         "6.4",
         "['63bf7ccef032397b4f001606', '63bf7ccef03239f920001691', '63bf7ccef03239966c001698']",
         "3"
        ],
        [
         "42",
         "63bf7ac9f032397420001696",
         "10.4",
         "3.2",
         "['63bf7ccef03239966c00169a', '63bf7ccef032396d89000013', '63bf7ccef03239eb9d0016d6', '63bf7ccef032396a8e00169e']",
         "4"
        ],
        [
         "43",
         "63bf7ac9f032397420001697",
         "22.48",
         "5.36",
         "['63bf7ccef03239cf1b0016a6', '63bf7ccef03239eb9d0016df']",
         "2"
        ],
        [
         "44",
         "63bf7ac9f032397420001698",
         "92.16",
         "9.12",
         "['63bf7ccef03239cf1b0016a9', '63bf7ccef032396d89000015', '63bf7ccef03239f920001691', '63bf7ccef03239f920001699']",
         "4"
        ],
        [
         "45",
         "63bf7ac9f032397420001699",
         "140.77",
         "9.02",
         "['63bf7ccef0323974200016a2', '63bf7ccef032395ccf00169c', '63bf7ccef0323937a500168d']",
         "3"
        ],
        [
         "46",
         "63bf7ac9f03239742000169a",
         "100.62",
         "6.55",
         "['63bf7ccef032394f5f002442', '63bf7ccef0323922d2001695', '63bf7ccef032395ccf001696', '63bf7ccef0323974200016a7']",
         "4"
        ],
        [
         "47",
         "63bf7ac9f03239742000169b",
         "69.13",
         "6.26",
         "['63bf7ccef03239eb9d0016d0', '63bf7ccef0323975d600169c', '63bf7ccef03239cf1b0016a8']",
         "3"
        ],
        [
         "48",
         "63bf7ac9f03239966c001692",
         "124.82",
         "8.49",
         "['63bf7ccef03239eb9d0016de', '63bf7ccef03239eb9d0016d3', '63bf7ccef0323974200016a7', '63bf7ccef032396d8900000e', '63bf7ccef032397b4f001607']",
         "5"
        ],
        [
         "49",
         "63bf7ac9f03239966c001693",
         "196.68",
         "3.32",
         "['63bf7ccef03239554c002452', '63bf7ccef0323922d2001698', '63bf7ccef03239aec9001562', '63bf7ccef03239855d00155f', '63bf7ccef0323901e600155f']",
         "5"
        ]
       ],
       "shape": {
        "columns": 5,
        "rows": 124
       }
      },
      "text/html": [
       "<div>\n",
       "<style scoped>\n",
       "    .dataframe tbody tr th:only-of-type {\n",
       "        vertical-align: middle;\n",
       "    }\n",
       "\n",
       "    .dataframe tbody tr th {\n",
       "        vertical-align: top;\n",
       "    }\n",
       "\n",
       "    .dataframe thead th {\n",
       "        text-align: right;\n",
       "    }\n",
       "</style>\n",
       "<table border=\"1\" class=\"dataframe\">\n",
       "  <thead>\n",
       "    <tr style=\"text-align: right;\">\n",
       "      <th></th>\n",
       "      <th>_id</th>\n",
       "      <th>price</th>\n",
       "      <th>expense</th>\n",
       "      <th>transactions</th>\n",
       "      <th>transactions_count</th>\n",
       "    </tr>\n",
       "  </thead>\n",
       "  <tbody>\n",
       "    <tr>\n",
       "      <th>0</th>\n",
       "      <td>63bf7ac9f03239e002001600</td>\n",
       "      <td>43.410000</td>\n",
       "      <td>5.97</td>\n",
       "      <td>[63bf7ccef03239554c002449, 63bf7ccef03239855d0...</td>\n",
       "      <td>4</td>\n",
       "    </tr>\n",
       "    <tr>\n",
       "      <th>1</th>\n",
       "      <td>63bf7ac9f03239e002001601</td>\n",
       "      <td>60.130001</td>\n",
       "      <td>9.12</td>\n",
       "      <td>[63bf7ccef032396a8e001696, 63bf7ccef0323922d20...</td>\n",
       "      <td>4</td>\n",
       "    </tr>\n",
       "    <tr>\n",
       "      <th>2</th>\n",
       "      <td>63bf7ac9f03239e002001602</td>\n",
       "      <td>195.050003</td>\n",
       "      <td>6.72</td>\n",
       "      <td>[63bf7ccef03239e002001606, 63bf7ccef0323922d20...</td>\n",
       "      <td>2</td>\n",
       "    </tr>\n",
       "    <tr>\n",
       "      <th>3</th>\n",
       "      <td>63bf7ac9f03239e002001603</td>\n",
       "      <td>46.250000</td>\n",
       "      <td>9.95</td>\n",
       "      <td>[63bf7ccef03239aec900155b, 63bf7ccef03239eb9d0...</td>\n",
       "      <td>3</td>\n",
       "    </tr>\n",
       "    <tr>\n",
       "      <th>4</th>\n",
       "      <td>63bf7ac9f03239e002001604</td>\n",
       "      <td>87.410004</td>\n",
       "      <td>7.97</td>\n",
       "      <td>[63bf7ccef03239855d00155d, 63bf7ccef03239855d0...</td>\n",
       "      <td>5</td>\n",
       "    </tr>\n",
       "    <tr>\n",
       "      <th>...</th>\n",
       "      <td>...</td>\n",
       "      <td>...</td>\n",
       "      <td>...</td>\n",
       "      <td>...</td>\n",
       "      <td>...</td>\n",
       "    </tr>\n",
       "    <tr>\n",
       "      <th>119</th>\n",
       "      <td>63bf7ac9f03239eb9d0016c8</td>\n",
       "      <td>42.709999</td>\n",
       "      <td>7.26</td>\n",
       "      <td>[63bf7ccef032396a8e001696, 63bf7ccef032397b4f0...</td>\n",
       "      <td>2</td>\n",
       "    </tr>\n",
       "    <tr>\n",
       "      <th>120</th>\n",
       "      <td>63bf7ac9f03239eb9d0016c9</td>\n",
       "      <td>106.889999</td>\n",
       "      <td>2.49</td>\n",
       "      <td>[63bf7ccef03239966c00169d]</td>\n",
       "      <td>1</td>\n",
       "    </tr>\n",
       "    <tr>\n",
       "      <th>121</th>\n",
       "      <td>63bf7ac9f03239eb9d0016ca</td>\n",
       "      <td>162.960007</td>\n",
       "      <td>2.18</td>\n",
       "      <td>[63bf7ccef03239f920001691, 63bf7ccef0323937a50...</td>\n",
       "      <td>4</td>\n",
       "    </tr>\n",
       "    <tr>\n",
       "      <th>122</th>\n",
       "      <td>63bf7ac9f03239eb9d0016cb</td>\n",
       "      <td>102.900002</td>\n",
       "      <td>1.40</td>\n",
       "      <td>[63bf7ccef03239966c00169f, 63bf7ccef032394cbd0...</td>\n",
       "      <td>5</td>\n",
       "    </tr>\n",
       "    <tr>\n",
       "      <th>123</th>\n",
       "      <td>63bf7ac9f03239eb9d0016cc</td>\n",
       "      <td>21.980000</td>\n",
       "      <td>7.86</td>\n",
       "      <td>[63bf7ccef03239343e0016a3, 63bf7ccef032397b4f0...</td>\n",
       "      <td>3</td>\n",
       "    </tr>\n",
       "  </tbody>\n",
       "</table>\n",
       "<p>124 rows × 5 columns</p>\n",
       "</div>"
      ],
      "text/plain": [
       "                          _id       price  expense  \\\n",
       "0    63bf7ac9f03239e002001600   43.410000     5.97   \n",
       "1    63bf7ac9f03239e002001601   60.130001     9.12   \n",
       "2    63bf7ac9f03239e002001602  195.050003     6.72   \n",
       "3    63bf7ac9f03239e002001603   46.250000     9.95   \n",
       "4    63bf7ac9f03239e002001604   87.410004     7.97   \n",
       "..                        ...         ...      ...   \n",
       "119  63bf7ac9f03239eb9d0016c8   42.709999     7.26   \n",
       "120  63bf7ac9f03239eb9d0016c9  106.889999     2.49   \n",
       "121  63bf7ac9f03239eb9d0016ca  162.960007     2.18   \n",
       "122  63bf7ac9f03239eb9d0016cb  102.900002     1.40   \n",
       "123  63bf7ac9f03239eb9d0016cc   21.980000     7.86   \n",
       "\n",
       "                                          transactions  transactions_count  \n",
       "0    [63bf7ccef03239554c002449, 63bf7ccef03239855d0...                   4  \n",
       "1    [63bf7ccef032396a8e001696, 63bf7ccef0323922d20...                   4  \n",
       "2    [63bf7ccef03239e002001606, 63bf7ccef0323922d20...                   2  \n",
       "3    [63bf7ccef03239aec900155b, 63bf7ccef03239eb9d0...                   3  \n",
       "4    [63bf7ccef03239855d00155d, 63bf7ccef03239855d0...                   5  \n",
       "..                                                 ...                 ...  \n",
       "119  [63bf7ccef032396a8e001696, 63bf7ccef032397b4f0...                   2  \n",
       "120                         [63bf7ccef03239966c00169d]                   1  \n",
       "121  [63bf7ccef03239f920001691, 63bf7ccef0323937a50...                   4  \n",
       "122  [63bf7ccef03239966c00169f, 63bf7ccef032394cbd0...                   5  \n",
       "123  [63bf7ccef03239343e0016a3, 63bf7ccef032397b4f0...                   3  \n",
       "\n",
       "[124 rows x 5 columns]"
      ]
     },
     "execution_count": 43,
     "metadata": {},
     "output_type": "execute_result"
    }
   ],
   "source": [
    "prod = pd.read_json('products.json')\n",
    "\n",
    "prod['price'] = prod['price'].str.replace('$','')\n",
    "prod['expense'] = prod['expense'].str.replace('$','')\n",
    "\n",
    "prod['price'] = prod['price'].astype('float32')\n",
    "prod['expense'] = prod['expense'].astype('float32')\n",
    "\n",
    "prod['transactions_count'] = (prod['transactions']).astype('str').str.split(',').str.len().astype('int16')\n",
    "prod"
   ]
  },
  {
   "cell_type": "code",
   "execution_count": 59,
   "id": "98441752",
   "metadata": {},
   "outputs": [],
   "source": [
    "prod.to_json('./repo/data/products.json', orient='records',indent=2)"
   ]
  },
  {
   "cell_type": "markdown",
   "id": "4d971eac",
   "metadata": {},
   "source": [
    "Transactions"
   ]
  },
  {
   "cell_type": "code",
   "execution_count": 51,
   "id": "5b0c2794",
   "metadata": {},
   "outputs": [
    {
     "data": {
      "application/vnd.microsoft.datawrangler.viewer.v0+json": {
       "columns": [
        {
         "name": "index",
         "rawType": "int64",
         "type": "integer"
        },
        {
         "name": "id",
         "rawType": "object",
         "type": "string"
        },
        {
         "name": "amount",
         "rawType": "float32",
         "type": "float"
        },
        {
         "name": "buyer",
         "rawType": "object",
         "type": "string"
        },
        {
         "name": "productIds",
         "rawType": "object",
         "type": "unknown"
        },
        {
         "name": "products",
         "rawType": "int16",
         "type": "integer"
        }
       ],
       "ref": "d4336f0f-9346-4bdd-9bcd-0929e1151c96",
       "rows": [
        [
         "0",
         "63bf7ccef03239e002001606",
         "154.37",
         "Jorrie Tidswell",
         "['63bf7ac9f03239e002001604']",
         "1"
        ],
        [
         "1",
         "63bf7ccef03239e002001607",
         "207.45",
         "Alfonse Surridge",
         "['63bf7ac9f032396a8e00168e', '63bf7ac9f032396a8e001693', '63bf7ac9f03239855d001555', '63bf7ac9f0323922d2001692']",
         "4"
        ],
        [
         "2",
         "63bf7ccef03239e002001608",
         "23.74",
         "Flem Domenc",
         "['63bf7ac9f0323937a5001689', '63bf7ac9f032396a8e001692', '63bf7ac9f03239343e00169d', '63bf7ac9f03239855d001553', '63bf7ac9f03239cf1b001698']",
         "5"
        ],
        [
         "3",
         "63bf7ccef03239e002001609",
         "156.67",
         "Jordain Gilberthorpe",
         "['63bf7ac9f0323975d6001692', '63bf7ac9f0323937a500168a', '63bf7ac9f0323922d2001691', '63bf7ac9f03239f92000168b']",
         "4"
        ],
        [
         "4",
         "63bf7ccef03239e00200160a",
         "174.95",
         "Thelma Christoforou",
         "['63bf7ac9f032397b4f0015fd', '63bf7ac9f032396a8e001690', '63bf7ac9f03239554c002445', '63bf7ac9f032395ccf001692']",
         "4"
        ],
        [
         "5",
         "63bf7ccef03239e00200160b",
         "245.32",
         "Mattie Iuorio",
         "['63bf7ac9f03239f92000168e', '63bf7ac9f0323975d6001693', '63bf7ac9f03239f920001689', '63bf7ac9f03239966c001696']",
         "4"
        ],
        [
         "6",
         "63bf7ccef03239e00200160c",
         "133.57",
         "Ancell Valerio",
         "['63bf7ac9f032396a8e00168f', '63bf7ac9f03239343e0016a0', '63bf7ac9f032394cbd00169c']",
         "3"
        ],
        [
         "7",
         "63bf7ccef03239e00200160d",
         "122.49",
         "Ollie Bolderstone",
         "['63bf7ac9f03239343e00169f']",
         "1"
        ],
        [
         "8",
         "63bf7ccef03239e00200160e",
         "270.23",
         "Audrey Zimmermeister",
         "['63bf7ac9f0323901e6001552']",
         "1"
        ],
        [
         "9",
         "63bf7ccef03239e00200160f",
         "173.38",
         "Sibby Iacovolo",
         "['63bf7ac9f032397b4f0015fe', '63bf7ac9f03239554c002447', '63bf7ac9f0323937a500168c', '63bf7ac9f03239e002001605', '63bf7ac9f032395ccf00168f']",
         "5"
        ],
        [
         "10",
         "63bf7ccef03239e002001610",
         "283.65",
         "Perry Scarrisbrick",
         "['63bf7ac9f032395ccf001690', '63bf7ac9f03239343e00169e']",
         "2"
        ],
        [
         "11",
         "63bf7ccef03239e002001611",
         "187.8",
         "Danika Dearth",
         "['63bf7ac9f03239e002001600', '63bf7ac9f0323901e6001553', '63bf7ac9f03239aec9001554', '63bf7ac9f032394f5f002438']",
         "4"
        ],
        [
         "12",
         "63bf7ccef03239343e0016a1",
         "233.9",
         "Jeddy Juschka",
         "['63bf7ac9f03239aec9001553', '63bf7ac9f03239aec9001554']",
         "2"
        ],
        [
         "13",
         "63bf7ccef03239343e0016a2",
         "217.32",
         "Shelley Ganiford",
         "['63bf7ac9f032396a8e001691', '63bf7ac9f0323937a500168c']",
         "2"
        ],
        [
         "14",
         "63bf7ccef03239343e0016a3",
         "272.71",
         "Inigo Paddeley",
         "['63bf7ac9f03239cf1b00169a', '63bf7ac9f03239855d001552']",
         "2"
        ],
        [
         "15",
         "63bf7ccef03239343e0016a4",
         "297.98",
         "Mallorie Handrek",
         "['63bf7ac9f03239f92000168b', '63bf7ac9f03239aec9001551', '63bf7ac9f03239855d001554', '63bf7ac9f03239554c002448']",
         "4"
        ],
        [
         "16",
         "63bf7ccef03239343e0016a5",
         "145.37",
         "Isadora Hollingsby",
         "['63bf7ac9f03239f92000168c', '63bf7ac9f0323937a500168a', '63bf7ac9f0323901e6001554']",
         "3"
        ],
        [
         "17",
         "63bf7ccef03239343e0016a6",
         "297.67",
         "Claudetta McNally",
         "['63bf7ac9f0323975d6001695', '63bf7ac9f032396a8e001690', '63bf7ac9f03239e002001604']",
         "3"
        ],
        [
         "18",
         "63bf7ccef03239343e0016a7",
         "221.5",
         "Garek Van Halen",
         "['63bf7ac9f03239554c002447']",
         "1"
        ],
        [
         "19",
         "63bf7ccef03239343e0016a8",
         "296.28",
         "Rozanna Lochead",
         "['63bf7ac9f03239e002001605', '63bf7ac9f032396a8e00168e', '63bf7ac9f032394cbd001699']",
         "3"
        ],
        [
         "20",
         "63bf7ccef03239343e0016a9",
         "270.66",
         "Valerie Dooly",
         "['63bf7ac9f032394cbd00169d', '63bf7ac9f032395ccf001691', '63bf7ac9f03239e002001601', '63bf7ac9f032396d89000008', '63bf7ac9f0323975d6001693']",
         "5"
        ],
        [
         "21",
         "63bf7ccef03239343e0016aa",
         "70.39",
         "Ronny Dishman",
         "['63bf7ac9f03239cf1b00169b', '63bf7ac9f0323975d6001692']",
         "2"
        ],
        [
         "22",
         "63bf7ccef03239343e0016ab",
         "193.31",
         "Carita Tampion",
         "['63bf7ac9f03239eb9d0016c5', '63bf7ac9f032394cbd00169e', '63bf7ac9f032395ccf001693']",
         "3"
        ],
        [
         "23",
         "63bf7ccef03239343e0016ac",
         "123.95",
         "Guido Valentine",
         "['63bf7ac9f03239cf1b00169c']",
         "1"
        ],
        [
         "24",
         "63bf7ccef0323901e6001557",
         "49.37",
         "Kimberley Glassopp",
         "['63bf7ac9f032396a8e001692']",
         "1"
        ],
        [
         "25",
         "63bf7ccef0323901e6001558",
         "89.87",
         "Cloris Vasyushkhin",
         "['63bf7ac9f03239343e00169d', '63bf7ac9f0323922d2001691', '63bf7ac9f032396a8e001693', '63bf7ac9f03239343e00169f', '63bf7ac9f03239855d001551']",
         "5"
        ],
        [
         "26",
         "63bf7ccef0323901e6001559",
         "72.12",
         "Chevy Richardet",
         "['63bf7ac9f0323937a5001687']",
         "1"
        ],
        [
         "27",
         "63bf7ccef0323901e600155a",
         "271.82",
         "Ailis Bum",
         "['63bf7ac9f03239554c002448', '63bf7ac9f032394cbd001699', '63bf7ac9f03239343e00169c']",
         "3"
        ],
        [
         "28",
         "63bf7ccef0323901e600155b",
         "282.33",
         "Florance Flook",
         "['63bf7ac9f03239aec9001554', '63bf7ac9f03239f920001689', '63bf7ac9f03239f92000168c', '63bf7ac9f03239e002001601']",
         "4"
        ],
        [
         "29",
         "63bf7ccef0323901e600155c",
         "177.35",
         "Agna Tresvina",
         "['63bf7ac9f03239742000169b', '63bf7ac9f03239966c001695', '63bf7ac9f03239966c001694', '63bf7ac9f032397420001698']",
         "4"
        ],
        [
         "30",
         "63bf7ccef0323901e600155d",
         "20.59",
         "Lulita Johanssen",
         "['63bf7ac9f03239cf1b001698', '63bf7ac9f0323922d2001690', '63bf7ac9f032395ccf001693', '63bf7ac9f0323937a500168a']",
         "4"
        ],
        [
         "31",
         "63bf7ccef0323901e600155e",
         "221.0",
         "Kally Sapshed",
         "['63bf7ac9f032394f5f002436', '63bf7ac9f03239554c002446', '63bf7ac9f0323975d6001694', '63bf7ac9f03239343e00169b', '63bf7ac9f032395ccf001692']",
         "5"
        ],
        [
         "32",
         "63bf7ccef0323901e600155f",
         "158.49",
         "Curcio Vaines",
         "['63bf7ac9f03239eb9d0016c8', '63bf7ac9f03239742000169a', '63bf7ac9f0323937a5001689', '63bf7ac9f03239eb9d0016cc', '63bf7ac9f032394f5f002433']",
         "5"
        ],
        [
         "33",
         "63bf7ccef0323901e6001560",
         "293.27",
         "Morgen Benettolo",
         "['63bf7ac9f03239eb9d0016c7']",
         "1"
        ],
        [
         "34",
         "63bf7ccef0323901e6001561",
         "182.51",
         "Leanor Game",
         "['63bf7ac9f03239aec9001553', '63bf7ac9f032396d8900000a', '63bf7ac9f032396d89000007', '63bf7ac9f03239eb9d0016c4']",
         "4"
        ],
        [
         "35",
         "63bf7ccef0323901e6001562",
         "64.71",
         "Del Coveny",
         "['63bf7ac9f032397b4f0015ff', '63bf7ac9f03239cf1b001699', '63bf7ac9f03239554c002447', '63bf7ac9f03239e002001602']",
         "4"
        ],
        [
         "36",
         "63bf7ccef032394cbd00169f",
         "195.92",
         "Juliette Whiteside",
         "['63bf7ac9f03239855d001552', '63bf7ac9f032394cbd00169d']",
         "2"
        ],
        [
         "37",
         "63bf7ccef032394cbd0016a0",
         "10.22",
         "Licha Mewis",
         "['63bf7ac9f032394f5f002438', '63bf7ac9f03239eb9d0016c3', '63bf7ac9f03239e002001604']",
         "3"
        ],
        [
         "38",
         "63bf7ccef032394cbd0016a1",
         "176.47",
         "Freedman Basnett",
         "['63bf7ac9f03239f92000168a', '63bf7ac9f0323937a500168a', '63bf7ac9f03239742000169a', '63bf7ac9f032394cbd00169a']",
         "4"
        ],
        [
         "39",
         "63bf7ccef032394cbd0016a2",
         "283.94",
         "Dex Martinat",
         "['63bf7ac9f03239343e0016a0', '63bf7ac9f0323922d200168e', '63bf7ac9f03239343e00169d']",
         "3"
        ],
        [
         "40",
         "63bf7ccef032394cbd0016a3",
         "135.62",
         "Mal Hessing",
         "['63bf7ac9f03239f92000168e', '63bf7ac9f03239aec9001552', '63bf7ac9f03239855d001554', '63bf7ac9f03239e002001603', '63bf7ac9f0323901e6001556']",
         "5"
        ],
        [
         "41",
         "63bf7ccef032394cbd0016a4",
         "87.83",
         "Kenyon Lake",
         "['63bf7ac9f0323975d6001697', '63bf7ac9f03239966c001696', '63bf7ac9f03239966c001693']",
         "3"
        ],
        [
         "42",
         "63bf7ccef032394cbd0016a5",
         "114.41",
         "Winifield Ahmed",
         "['63bf7ac9f032397b4f0015fb', '63bf7ac9f03239855d001555', '63bf7ac9f03239f92000168c', '63bf7ac9f03239966c001692', '63bf7ac9f03239e002001601']",
         "5"
        ],
        [
         "43",
         "63bf7ccef032394cbd0016a6",
         "263.24",
         "Stace Igglesden",
         "['63bf7ac9f032396d8900000b', '63bf7ac9f03239f92000168b', '63bf7ac9f032396d89000008', '63bf7ac9f03239eb9d0016c4']",
         "4"
        ],
        [
         "44",
         "63bf7ccef032394cbd0016a7",
         "117.52",
         "Jordan Skillern",
         "['63bf7ac9f0323901e6001555']",
         "1"
        ],
        [
         "45",
         "63bf7ccef032394cbd0016a8",
         "64.63",
         "Yorker Sharphurst",
         "['63bf7ac9f03239343e00169c', '63bf7ac9f0323975d6001694', '63bf7ac9f03239554c002444', '63bf7ac9f032396a8e001690', '63bf7ac9f03239cf1b00169d']",
         "5"
        ],
        [
         "46",
         "63bf7ccef032394cbd0016a9",
         "180.19",
         "Stormy Timoney",
         "['63bf7ac9f032394cbd00169c', '63bf7ac9f032396a8e001693', '63bf7ac9f032395ccf001690', '63bf7ac9f0323901e6001552']",
         "4"
        ],
        [
         "47",
         "63bf7ccef032394cbd0016aa",
         "70.7",
         "Reginauld Brinicombe",
         "['63bf7ac9f03239eb9d0016c5', '63bf7ac9f03239855d001553', '63bf7ac9f03239343e00169b']",
         "3"
        ],
        [
         "48",
         "63bf7ccef03239cf1b00169e",
         "49.6",
         "Benedikt Gibbe",
         "['63bf7ac9f03239eb9d0016c5', '63bf7ac9f03239aec9001554', '63bf7ac9f0323901e6001556']",
         "3"
        ],
        [
         "49",
         "63bf7ccef03239cf1b00169f",
         "64.19",
         "Elia Kenningham",
         "['63bf7ac9f032397b4f0015fb', '63bf7ac9f03239aec9001556', '63bf7ac9f03239855d001554']",
         "3"
        ]
       ],
       "shape": {
        "columns": 5,
        "rows": 258
       }
      },
      "text/html": [
       "<div>\n",
       "<style scoped>\n",
       "    .dataframe tbody tr th:only-of-type {\n",
       "        vertical-align: middle;\n",
       "    }\n",
       "\n",
       "    .dataframe tbody tr th {\n",
       "        vertical-align: top;\n",
       "    }\n",
       "\n",
       "    .dataframe thead th {\n",
       "        text-align: right;\n",
       "    }\n",
       "</style>\n",
       "<table border=\"1\" class=\"dataframe\">\n",
       "  <thead>\n",
       "    <tr style=\"text-align: right;\">\n",
       "      <th></th>\n",
       "      <th>id</th>\n",
       "      <th>amount</th>\n",
       "      <th>buyer</th>\n",
       "      <th>productIds</th>\n",
       "      <th>products</th>\n",
       "    </tr>\n",
       "  </thead>\n",
       "  <tbody>\n",
       "    <tr>\n",
       "      <th>0</th>\n",
       "      <td>63bf7ccef03239e002001606</td>\n",
       "      <td>154.369995</td>\n",
       "      <td>Jorrie Tidswell</td>\n",
       "      <td>[63bf7ac9f03239e002001604]</td>\n",
       "      <td>1</td>\n",
       "    </tr>\n",
       "    <tr>\n",
       "      <th>1</th>\n",
       "      <td>63bf7ccef03239e002001607</td>\n",
       "      <td>207.449997</td>\n",
       "      <td>Alfonse Surridge</td>\n",
       "      <td>[63bf7ac9f032396a8e00168e, 63bf7ac9f032396a8e0...</td>\n",
       "      <td>4</td>\n",
       "    </tr>\n",
       "    <tr>\n",
       "      <th>2</th>\n",
       "      <td>63bf7ccef03239e002001608</td>\n",
       "      <td>23.740000</td>\n",
       "      <td>Flem Domenc</td>\n",
       "      <td>[63bf7ac9f0323937a5001689, 63bf7ac9f032396a8e0...</td>\n",
       "      <td>5</td>\n",
       "    </tr>\n",
       "    <tr>\n",
       "      <th>3</th>\n",
       "      <td>63bf7ccef03239e002001609</td>\n",
       "      <td>156.669998</td>\n",
       "      <td>Jordain Gilberthorpe</td>\n",
       "      <td>[63bf7ac9f0323975d6001692, 63bf7ac9f0323937a50...</td>\n",
       "      <td>4</td>\n",
       "    </tr>\n",
       "    <tr>\n",
       "      <th>4</th>\n",
       "      <td>63bf7ccef03239e00200160a</td>\n",
       "      <td>174.949997</td>\n",
       "      <td>Thelma Christoforou</td>\n",
       "      <td>[63bf7ac9f032397b4f0015fd, 63bf7ac9f032396a8e0...</td>\n",
       "      <td>4</td>\n",
       "    </tr>\n",
       "    <tr>\n",
       "      <th>...</th>\n",
       "      <td>...</td>\n",
       "      <td>...</td>\n",
       "      <td>...</td>\n",
       "      <td>...</td>\n",
       "      <td>...</td>\n",
       "    </tr>\n",
       "    <tr>\n",
       "      <th>253</th>\n",
       "      <td>63bf7ccef03239eb9d0016e6</td>\n",
       "      <td>35.889999</td>\n",
       "      <td>Jeramie Mc Gaughey</td>\n",
       "      <td>[63bf7ac9f0323922d2001691]</td>\n",
       "      <td>1</td>\n",
       "    </tr>\n",
       "    <tr>\n",
       "      <th>254</th>\n",
       "      <td>63bf7ccef03239eb9d0016e7</td>\n",
       "      <td>88.260002</td>\n",
       "      <td>Der Yuille</td>\n",
       "      <td>[63bf7ac9f03239343e00169e, 63bf7ac9f0323901e60...</td>\n",
       "      <td>3</td>\n",
       "    </tr>\n",
       "    <tr>\n",
       "      <th>255</th>\n",
       "      <td>63bf7ccef03239eb9d0016e8</td>\n",
       "      <td>50.840000</td>\n",
       "      <td>Zelig Punton</td>\n",
       "      <td>[63bf7ac9f03239f92000168a, 63bf7ac9f032397b4f0...</td>\n",
       "      <td>2</td>\n",
       "    </tr>\n",
       "    <tr>\n",
       "      <th>256</th>\n",
       "      <td>63bf7ccef03239eb9d0016e9</td>\n",
       "      <td>88.760002</td>\n",
       "      <td>Randolf Cheavin</td>\n",
       "      <td>[63bf7ac9f0323937a5001689, 63bf7ac9f0323901e60...</td>\n",
       "      <td>3</td>\n",
       "    </tr>\n",
       "    <tr>\n",
       "      <th>257</th>\n",
       "      <td>63bf7ccef03239eb9d0016ea</td>\n",
       "      <td>254.580002</td>\n",
       "      <td>Loy Randerson</td>\n",
       "      <td>[63bf7ac9f032394f5f002437]</td>\n",
       "      <td>1</td>\n",
       "    </tr>\n",
       "  </tbody>\n",
       "</table>\n",
       "<p>258 rows × 5 columns</p>\n",
       "</div>"
      ],
      "text/plain": [
       "                           id      amount                 buyer  \\\n",
       "0    63bf7ccef03239e002001606  154.369995       Jorrie Tidswell   \n",
       "1    63bf7ccef03239e002001607  207.449997      Alfonse Surridge   \n",
       "2    63bf7ccef03239e002001608   23.740000           Flem Domenc   \n",
       "3    63bf7ccef03239e002001609  156.669998  Jordain Gilberthorpe   \n",
       "4    63bf7ccef03239e00200160a  174.949997   Thelma Christoforou   \n",
       "..                        ...         ...                   ...   \n",
       "253  63bf7ccef03239eb9d0016e6   35.889999    Jeramie Mc Gaughey   \n",
       "254  63bf7ccef03239eb9d0016e7   88.260002            Der Yuille   \n",
       "255  63bf7ccef03239eb9d0016e8   50.840000          Zelig Punton   \n",
       "256  63bf7ccef03239eb9d0016e9   88.760002       Randolf Cheavin   \n",
       "257  63bf7ccef03239eb9d0016ea  254.580002         Loy Randerson   \n",
       "\n",
       "                                            productIds  products  \n",
       "0                           [63bf7ac9f03239e002001604]         1  \n",
       "1    [63bf7ac9f032396a8e00168e, 63bf7ac9f032396a8e0...         4  \n",
       "2    [63bf7ac9f0323937a5001689, 63bf7ac9f032396a8e0...         5  \n",
       "3    [63bf7ac9f0323975d6001692, 63bf7ac9f0323937a50...         4  \n",
       "4    [63bf7ac9f032397b4f0015fd, 63bf7ac9f032396a8e0...         4  \n",
       "..                                                 ...       ...  \n",
       "253                         [63bf7ac9f0323922d2001691]         1  \n",
       "254  [63bf7ac9f03239343e00169e, 63bf7ac9f0323901e60...         3  \n",
       "255  [63bf7ac9f03239f92000168a, 63bf7ac9f032397b4f0...         2  \n",
       "256  [63bf7ac9f0323937a5001689, 63bf7ac9f0323901e60...         3  \n",
       "257                         [63bf7ac9f032394f5f002437]         1  \n",
       "\n",
       "[258 rows x 5 columns]"
      ]
     },
     "execution_count": 51,
     "metadata": {},
     "output_type": "execute_result"
    }
   ],
   "source": [
    "tran = pd.read_json('./repo/data/transactions.json')\n",
    "\n",
    "tran['amount'] = tran['amount'].str.replace('$','').astype('float32')\n",
    "tran['products'] = (tran['productIds']).astype('str').str.split(',').str.len().astype('int16')\n",
    "tran"
   ]
  },
  {
   "cell_type": "code",
   "execution_count": 52,
   "id": "e41023bb",
   "metadata": {},
   "outputs": [],
   "source": [
    "tran.to_json('./repo/data/transactions.json', orient='records', indent=2)"
   ]
  },
  {
   "cell_type": "code",
   "execution_count": 63,
   "id": "c29afdb6",
   "metadata": {},
   "outputs": [
    {
     "name": "stderr",
     "output_type": "stream",
     "text": [
      "<>:1: SyntaxWarning: invalid escape sequence '\\d'\n",
      "<>:2: SyntaxWarning: invalid escape sequence '\\d'\n",
      "<>:1: SyntaxWarning: invalid escape sequence '\\d'\n",
      "<>:2: SyntaxWarning: invalid escape sequence '\\d'\n",
      "C:\\Users\\jager\\AppData\\Local\\Temp\\ipykernel_6848\\165174934.py:1: SyntaxWarning: invalid escape sequence '\\d'\n",
      "  k1 = pd.read_json('repo\\data\\kpis_monthly.json')\n",
      "C:\\Users\\jager\\AppData\\Local\\Temp\\ipykernel_6848\\165174934.py:2: SyntaxWarning: invalid escape sequence '\\d'\n",
      "  k2 = pd.read_json('repo\\data\\kpis_daily.json')\n"
     ]
    }
   ],
   "source": [
    "k1 = pd.read_json('repo\\data\\kpis_monthly.json')\n",
    "k2 = pd.read_json('repo\\data\\kpis_daily.json')\n",
    "\n",
    "# a = k1[k1['mon']]"
   ]
  },
  {
   "cell_type": "code",
   "execution_count": 84,
   "id": "76fe627e",
   "metadata": {},
   "outputs": [
    {
     "name": "stdout",
     "output_type": "stream",
     "text": [
      "11677.83984375 14824.7699890136\n"
     ]
    }
   ],
   "source": [
    "a = k1[k1['month'] == 'february']['expense'].values[0]\n",
    "b = sum(k2[k2['month'] == 2]['expense'])\n",
    "print(a, b)"
   ]
  },
  {
   "cell_type": "code",
   "execution_count": 83,
   "id": "2b02bf06",
   "metadata": {},
   "outputs": [
    {
     "data": {
      "application/vnd.microsoft.datawrangler.viewer.v0+json": {
       "columns": [
        {
         "name": "index",
         "rawType": "int64",
         "type": "integer"
        },
        {
         "name": "month",
         "rawType": "object",
         "type": "string"
        },
        {
         "name": "revenue",
         "rawType": "float64",
         "type": "float"
        },
        {
         "name": "expense",
         "rawType": "float64",
         "type": "float"
        },
        {
         "name": "opexp",
         "rawType": "float64",
         "type": "float"
        },
        {
         "name": "nonopexp",
         "rawType": "float64",
         "type": "float"
        }
       ],
       "ref": "f7c34021-5e9e-4d0e-8a0f-abcdc92b80df",
       "rows": [
        [
         "0",
         "january",
         "15989.6396484375",
         "14231.73046875",
         "10340.0302734375",
         "4891.7001953125"
        ],
        [
         "1",
         "february",
         "15832.76953125",
         "11677.83984375",
         "7006.6899414062",
         "8661.150390625"
        ],
        [
         "2",
         "march",
         "16481.26953125",
         "14664.0302734375",
         "8797.419921875",
         "7866.6098632812"
        ],
        [
         "3",
         "april",
         "18229.380859375",
         "12336.51953125",
         "7401.91015625",
         "2934.6101074219"
        ],
        [
         "4",
         "may",
         "17401.7890625",
         "11160.6103515625",
         "4296.3701171875",
         "4864.240234375"
        ],
        [
         "5",
         "june",
         "18274.029296875",
         "12311.6103515625",
         "7386.9599609375",
         "9924.650390625"
        ],
        [
         "6",
         "july",
         "19349.98046875",
         "15431.8095703125",
         "9258.08984375",
         "7173.7202148438"
        ],
        [
         "7",
         "august",
         "16647.2890625",
         "13213.7099609375",
         "3127.8200683594",
         "5085.8901367188"
        ],
        [
         "8",
         "september",
         "19344.0703125",
         "17405.919921875",
         "10443.5498046875",
         "4962.3701171875"
        ],
        [
         "9",
         "october",
         "21160.220703125",
         "12990.580078125",
         "3594.3500976562",
         "9396.23046875"
        ],
        [
         "10",
         "november",
         "22655.029296875",
         "17140.80078125",
         "10284.48046875",
         "3856.3200683594"
        ],
        [
         "11",
         "december",
         "17757.75",
         "15266.9697265625",
         "9160.1796875",
         "4106.7900390625"
        ]
       ],
       "shape": {
        "columns": 5,
        "rows": 12
       }
      },
      "text/html": [
       "<div>\n",
       "<style scoped>\n",
       "    .dataframe tbody tr th:only-of-type {\n",
       "        vertical-align: middle;\n",
       "    }\n",
       "\n",
       "    .dataframe tbody tr th {\n",
       "        vertical-align: top;\n",
       "    }\n",
       "\n",
       "    .dataframe thead th {\n",
       "        text-align: right;\n",
       "    }\n",
       "</style>\n",
       "<table border=\"1\" class=\"dataframe\">\n",
       "  <thead>\n",
       "    <tr style=\"text-align: right;\">\n",
       "      <th></th>\n",
       "      <th>month</th>\n",
       "      <th>revenue</th>\n",
       "      <th>expense</th>\n",
       "      <th>opexp</th>\n",
       "      <th>nonopexp</th>\n",
       "    </tr>\n",
       "  </thead>\n",
       "  <tbody>\n",
       "    <tr>\n",
       "      <th>0</th>\n",
       "      <td>january</td>\n",
       "      <td>15989.639648</td>\n",
       "      <td>14231.730469</td>\n",
       "      <td>10340.030273</td>\n",
       "      <td>4891.700195</td>\n",
       "    </tr>\n",
       "    <tr>\n",
       "      <th>1</th>\n",
       "      <td>february</td>\n",
       "      <td>15832.769531</td>\n",
       "      <td>11677.839844</td>\n",
       "      <td>7006.689941</td>\n",
       "      <td>8661.150391</td>\n",
       "    </tr>\n",
       "    <tr>\n",
       "      <th>2</th>\n",
       "      <td>march</td>\n",
       "      <td>16481.269531</td>\n",
       "      <td>14664.030273</td>\n",
       "      <td>8797.419922</td>\n",
       "      <td>7866.609863</td>\n",
       "    </tr>\n",
       "    <tr>\n",
       "      <th>3</th>\n",
       "      <td>april</td>\n",
       "      <td>18229.380859</td>\n",
       "      <td>12336.519531</td>\n",
       "      <td>7401.910156</td>\n",
       "      <td>2934.610107</td>\n",
       "    </tr>\n",
       "    <tr>\n",
       "      <th>4</th>\n",
       "      <td>may</td>\n",
       "      <td>17401.789062</td>\n",
       "      <td>11160.610352</td>\n",
       "      <td>4296.370117</td>\n",
       "      <td>4864.240234</td>\n",
       "    </tr>\n",
       "    <tr>\n",
       "      <th>5</th>\n",
       "      <td>june</td>\n",
       "      <td>18274.029297</td>\n",
       "      <td>12311.610352</td>\n",
       "      <td>7386.959961</td>\n",
       "      <td>9924.650391</td>\n",
       "    </tr>\n",
       "    <tr>\n",
       "      <th>6</th>\n",
       "      <td>july</td>\n",
       "      <td>19349.980469</td>\n",
       "      <td>15431.809570</td>\n",
       "      <td>9258.089844</td>\n",
       "      <td>7173.720215</td>\n",
       "    </tr>\n",
       "    <tr>\n",
       "      <th>7</th>\n",
       "      <td>august</td>\n",
       "      <td>16647.289062</td>\n",
       "      <td>13213.709961</td>\n",
       "      <td>3127.820068</td>\n",
       "      <td>5085.890137</td>\n",
       "    </tr>\n",
       "    <tr>\n",
       "      <th>8</th>\n",
       "      <td>september</td>\n",
       "      <td>19344.070312</td>\n",
       "      <td>17405.919922</td>\n",
       "      <td>10443.549805</td>\n",
       "      <td>4962.370117</td>\n",
       "    </tr>\n",
       "    <tr>\n",
       "      <th>9</th>\n",
       "      <td>october</td>\n",
       "      <td>21160.220703</td>\n",
       "      <td>12990.580078</td>\n",
       "      <td>3594.350098</td>\n",
       "      <td>9396.230469</td>\n",
       "    </tr>\n",
       "    <tr>\n",
       "      <th>10</th>\n",
       "      <td>november</td>\n",
       "      <td>22655.029297</td>\n",
       "      <td>17140.800781</td>\n",
       "      <td>10284.480469</td>\n",
       "      <td>3856.320068</td>\n",
       "    </tr>\n",
       "    <tr>\n",
       "      <th>11</th>\n",
       "      <td>december</td>\n",
       "      <td>17757.750000</td>\n",
       "      <td>15266.969727</td>\n",
       "      <td>9160.179688</td>\n",
       "      <td>4106.790039</td>\n",
       "    </tr>\n",
       "  </tbody>\n",
       "</table>\n",
       "</div>"
      ],
      "text/plain": [
       "        month       revenue       expense         opexp     nonopexp\n",
       "0     january  15989.639648  14231.730469  10340.030273  4891.700195\n",
       "1    february  15832.769531  11677.839844   7006.689941  8661.150391\n",
       "2       march  16481.269531  14664.030273   8797.419922  7866.609863\n",
       "3       april  18229.380859  12336.519531   7401.910156  2934.610107\n",
       "4         may  17401.789062  11160.610352   4296.370117  4864.240234\n",
       "5        june  18274.029297  12311.610352   7386.959961  9924.650391\n",
       "6        july  19349.980469  15431.809570   9258.089844  7173.720215\n",
       "7      august  16647.289062  13213.709961   3127.820068  5085.890137\n",
       "8   september  19344.070312  17405.919922  10443.549805  4962.370117\n",
       "9     october  21160.220703  12990.580078   3594.350098  9396.230469\n",
       "10   november  22655.029297  17140.800781  10284.480469  3856.320068\n",
       "11   december  17757.750000  15266.969727   9160.179688  4106.790039"
      ]
     },
     "execution_count": 83,
     "metadata": {},
     "output_type": "execute_result"
    }
   ],
   "source": [
    "k1"
   ]
  },
  {
   "cell_type": "code",
   "execution_count": 66,
   "id": "6200f25e",
   "metadata": {},
   "outputs": [
    {
     "data": {
      "application/vnd.microsoft.datawrangler.viewer.v0+json": {
       "columns": [
        {
         "name": "index",
         "rawType": "int64",
         "type": "integer"
        },
        {
         "name": "date",
         "rawType": "datetime64[ns]",
         "type": "datetime"
        },
        {
         "name": "revenue",
         "rawType": "float64",
         "type": "float"
        },
        {
         "name": "expense",
         "rawType": "float64",
         "type": "float"
        },
        {
         "name": "profit",
         "rawType": "float64",
         "type": "float"
        },
        {
         "name": "month",
         "rawType": "int64",
         "type": "integer"
        }
       ],
       "ref": "e0e40c48-7752-42aa-b020-6283217c720b",
       "rows": [
        [
         "0",
         "2022-01-02 00:00:00",
         "1498.9399414062",
         "430.6400146484",
         "1068.3000488281",
         "1"
        ],
        [
         "1",
         "2022-01-03 00:00:00",
         "935.0800170898",
         "329.3200073242",
         "605.7600097656",
         "1"
        ],
        [
         "2",
         "2022-01-04 00:00:00",
         "1350.9599609375",
         "562.4899902344",
         "788.4699707031",
         "1"
        ],
        [
         "3",
         "2022-01-05 00:00:00",
         "1244.3299560547",
         "679.3200073242",
         "565.0100097656",
         "1"
        ],
        [
         "4",
         "2022-01-06 00:00:00",
         "1132.9899902344",
         "439.799987793",
         "693.1900024414",
         "1"
        ],
        [
         "5",
         "2022-01-07 00:00:00",
         "1158.3100585938",
         "336.1199951172",
         "822.1900024414",
         "1"
        ],
        [
         "6",
         "2022-01-08 00:00:00",
         "1184.6600341797",
         "516.0999755859",
         "668.5599975586",
         "1"
        ],
        [
         "7",
         "2022-01-09 00:00:00",
         "637.3200073242",
         "635.0599975586",
         "2.2599999905",
         "1"
        ],
        [
         "8",
         "2022-01-10 00:00:00",
         "1315.2099609375",
         "560.1199951172",
         "755.0900268555",
         "1"
        ],
        [
         "9",
         "2022-01-11 00:00:00",
         "1093.0600585938",
         "540.049987793",
         "553.0100097656",
         "1"
        ],
        [
         "10",
         "2022-01-12 00:00:00",
         "1477.7700195312",
         "487.1600036621",
         "990.6099853516",
         "1"
        ],
        [
         "11",
         "2022-01-13 00:00:00",
         "1076.0899658203",
         "616.2899780273",
         "459.799987793",
         "1"
        ],
        [
         "12",
         "2022-01-14 00:00:00",
         "1130.9599609375",
         "392.1700134277",
         "738.7899780273",
         "1"
        ],
        [
         "13",
         "2022-01-15 00:00:00",
         "846.4199829102",
         "548.3800048828",
         "298.0400085449",
         "1"
        ],
        [
         "14",
         "2022-01-16 00:00:00",
         "1182.3499755859",
         "366.7200012207",
         "815.6300048828",
         "1"
        ],
        [
         "15",
         "2022-01-17 00:00:00",
         "1046.6099853516",
         "481.5599975586",
         "565.049987793",
         "1"
        ],
        [
         "16",
         "2022-01-18 00:00:00",
         "601.6500244141",
         "452.75",
         "148.8999938965",
         "1"
        ],
        [
         "17",
         "2022-01-19 00:00:00",
         "798.3300170898",
         "351.2300109863",
         "447.1000061035",
         "1"
        ],
        [
         "18",
         "2022-01-20 00:00:00",
         "1499.3699951172",
         "340.8500061035",
         "1158.5200195312",
         "1"
        ],
        [
         "19",
         "2022-01-21 00:00:00",
         "1462.2600097656",
         "630.3099975586",
         "831.950012207",
         "1"
        ],
        [
         "20",
         "2022-01-22 00:00:00",
         "1447.3800048828",
         "476.5899963379",
         "970.7899780273",
         "1"
        ],
        [
         "21",
         "2022-01-23 00:00:00",
         "1194.9599609375",
         "482.8500061035",
         "712.1099853516",
         "1"
        ],
        [
         "22",
         "2022-01-24 00:00:00",
         "713.1099853516",
         "754.3300170898",
         "-41.2200012207",
         "1"
        ],
        [
         "23",
         "2022-01-25 00:00:00",
         "1084.4799804688",
         "547.3699951172",
         "537.1099853516",
         "1"
        ],
        [
         "24",
         "2022-01-26 00:00:00",
         "819.5300292969",
         "653.5900268555",
         "165.9400024414",
         "1"
        ],
        [
         "25",
         "2022-01-27 00:00:00",
         "1306.6099853516",
         "636.8699951172",
         "669.7399902344",
         "1"
        ],
        [
         "26",
         "2022-01-28 00:00:00",
         "1029.7800292969",
         "719.4600219727",
         "310.3200073242",
         "1"
        ],
        [
         "27",
         "2022-01-29 00:00:00",
         "1415.1800537109",
         "387.4899902344",
         "1027.6899414062",
         "1"
        ],
        [
         "28",
         "2022-01-30 00:00:00",
         "845.3800048828",
         "533.9299926758",
         "311.450012207",
         "1"
        ],
        [
         "29",
         "2022-01-31 00:00:00",
         "764.6900024414",
         "762.3499755859",
         "2.3399999142",
         "1"
        ],
        [
         "364",
         "2023-01-01 00:00:00",
         "832.700012207",
         "664.4099731445",
         "168.2899932861",
         "1"
        ]
       ],
       "shape": {
        "columns": 5,
        "rows": 31
       }
      },
      "text/html": [
       "<div>\n",
       "<style scoped>\n",
       "    .dataframe tbody tr th:only-of-type {\n",
       "        vertical-align: middle;\n",
       "    }\n",
       "\n",
       "    .dataframe tbody tr th {\n",
       "        vertical-align: top;\n",
       "    }\n",
       "\n",
       "    .dataframe thead th {\n",
       "        text-align: right;\n",
       "    }\n",
       "</style>\n",
       "<table border=\"1\" class=\"dataframe\">\n",
       "  <thead>\n",
       "    <tr style=\"text-align: right;\">\n",
       "      <th></th>\n",
       "      <th>date</th>\n",
       "      <th>revenue</th>\n",
       "      <th>expense</th>\n",
       "      <th>profit</th>\n",
       "      <th>month</th>\n",
       "    </tr>\n",
       "  </thead>\n",
       "  <tbody>\n",
       "    <tr>\n",
       "      <th>0</th>\n",
       "      <td>2022-01-02</td>\n",
       "      <td>1498.939941</td>\n",
       "      <td>430.640015</td>\n",
       "      <td>1068.300049</td>\n",
       "      <td>1</td>\n",
       "    </tr>\n",
       "    <tr>\n",
       "      <th>1</th>\n",
       "      <td>2022-01-03</td>\n",
       "      <td>935.080017</td>\n",
       "      <td>329.320007</td>\n",
       "      <td>605.760010</td>\n",
       "      <td>1</td>\n",
       "    </tr>\n",
       "    <tr>\n",
       "      <th>2</th>\n",
       "      <td>2022-01-04</td>\n",
       "      <td>1350.959961</td>\n",
       "      <td>562.489990</td>\n",
       "      <td>788.469971</td>\n",
       "      <td>1</td>\n",
       "    </tr>\n",
       "    <tr>\n",
       "      <th>3</th>\n",
       "      <td>2022-01-05</td>\n",
       "      <td>1244.329956</td>\n",
       "      <td>679.320007</td>\n",
       "      <td>565.010010</td>\n",
       "      <td>1</td>\n",
       "    </tr>\n",
       "    <tr>\n",
       "      <th>4</th>\n",
       "      <td>2022-01-06</td>\n",
       "      <td>1132.989990</td>\n",
       "      <td>439.799988</td>\n",
       "      <td>693.190002</td>\n",
       "      <td>1</td>\n",
       "    </tr>\n",
       "    <tr>\n",
       "      <th>5</th>\n",
       "      <td>2022-01-07</td>\n",
       "      <td>1158.310059</td>\n",
       "      <td>336.119995</td>\n",
       "      <td>822.190002</td>\n",
       "      <td>1</td>\n",
       "    </tr>\n",
       "    <tr>\n",
       "      <th>6</th>\n",
       "      <td>2022-01-08</td>\n",
       "      <td>1184.660034</td>\n",
       "      <td>516.099976</td>\n",
       "      <td>668.559998</td>\n",
       "      <td>1</td>\n",
       "    </tr>\n",
       "    <tr>\n",
       "      <th>7</th>\n",
       "      <td>2022-01-09</td>\n",
       "      <td>637.320007</td>\n",
       "      <td>635.059998</td>\n",
       "      <td>2.260000</td>\n",
       "      <td>1</td>\n",
       "    </tr>\n",
       "    <tr>\n",
       "      <th>8</th>\n",
       "      <td>2022-01-10</td>\n",
       "      <td>1315.209961</td>\n",
       "      <td>560.119995</td>\n",
       "      <td>755.090027</td>\n",
       "      <td>1</td>\n",
       "    </tr>\n",
       "    <tr>\n",
       "      <th>9</th>\n",
       "      <td>2022-01-11</td>\n",
       "      <td>1093.060059</td>\n",
       "      <td>540.049988</td>\n",
       "      <td>553.010010</td>\n",
       "      <td>1</td>\n",
       "    </tr>\n",
       "    <tr>\n",
       "      <th>10</th>\n",
       "      <td>2022-01-12</td>\n",
       "      <td>1477.770020</td>\n",
       "      <td>487.160004</td>\n",
       "      <td>990.609985</td>\n",
       "      <td>1</td>\n",
       "    </tr>\n",
       "    <tr>\n",
       "      <th>11</th>\n",
       "      <td>2022-01-13</td>\n",
       "      <td>1076.089966</td>\n",
       "      <td>616.289978</td>\n",
       "      <td>459.799988</td>\n",
       "      <td>1</td>\n",
       "    </tr>\n",
       "    <tr>\n",
       "      <th>12</th>\n",
       "      <td>2022-01-14</td>\n",
       "      <td>1130.959961</td>\n",
       "      <td>392.170013</td>\n",
       "      <td>738.789978</td>\n",
       "      <td>1</td>\n",
       "    </tr>\n",
       "    <tr>\n",
       "      <th>13</th>\n",
       "      <td>2022-01-15</td>\n",
       "      <td>846.419983</td>\n",
       "      <td>548.380005</td>\n",
       "      <td>298.040009</td>\n",
       "      <td>1</td>\n",
       "    </tr>\n",
       "    <tr>\n",
       "      <th>14</th>\n",
       "      <td>2022-01-16</td>\n",
       "      <td>1182.349976</td>\n",
       "      <td>366.720001</td>\n",
       "      <td>815.630005</td>\n",
       "      <td>1</td>\n",
       "    </tr>\n",
       "    <tr>\n",
       "      <th>15</th>\n",
       "      <td>2022-01-17</td>\n",
       "      <td>1046.609985</td>\n",
       "      <td>481.559998</td>\n",
       "      <td>565.049988</td>\n",
       "      <td>1</td>\n",
       "    </tr>\n",
       "    <tr>\n",
       "      <th>16</th>\n",
       "      <td>2022-01-18</td>\n",
       "      <td>601.650024</td>\n",
       "      <td>452.750000</td>\n",
       "      <td>148.899994</td>\n",
       "      <td>1</td>\n",
       "    </tr>\n",
       "    <tr>\n",
       "      <th>17</th>\n",
       "      <td>2022-01-19</td>\n",
       "      <td>798.330017</td>\n",
       "      <td>351.230011</td>\n",
       "      <td>447.100006</td>\n",
       "      <td>1</td>\n",
       "    </tr>\n",
       "    <tr>\n",
       "      <th>18</th>\n",
       "      <td>2022-01-20</td>\n",
       "      <td>1499.369995</td>\n",
       "      <td>340.850006</td>\n",
       "      <td>1158.520020</td>\n",
       "      <td>1</td>\n",
       "    </tr>\n",
       "    <tr>\n",
       "      <th>19</th>\n",
       "      <td>2022-01-21</td>\n",
       "      <td>1462.260010</td>\n",
       "      <td>630.309998</td>\n",
       "      <td>831.950012</td>\n",
       "      <td>1</td>\n",
       "    </tr>\n",
       "    <tr>\n",
       "      <th>20</th>\n",
       "      <td>2022-01-22</td>\n",
       "      <td>1447.380005</td>\n",
       "      <td>476.589996</td>\n",
       "      <td>970.789978</td>\n",
       "      <td>1</td>\n",
       "    </tr>\n",
       "    <tr>\n",
       "      <th>21</th>\n",
       "      <td>2022-01-23</td>\n",
       "      <td>1194.959961</td>\n",
       "      <td>482.850006</td>\n",
       "      <td>712.109985</td>\n",
       "      <td>1</td>\n",
       "    </tr>\n",
       "    <tr>\n",
       "      <th>22</th>\n",
       "      <td>2022-01-24</td>\n",
       "      <td>713.109985</td>\n",
       "      <td>754.330017</td>\n",
       "      <td>-41.220001</td>\n",
       "      <td>1</td>\n",
       "    </tr>\n",
       "    <tr>\n",
       "      <th>23</th>\n",
       "      <td>2022-01-25</td>\n",
       "      <td>1084.479980</td>\n",
       "      <td>547.369995</td>\n",
       "      <td>537.109985</td>\n",
       "      <td>1</td>\n",
       "    </tr>\n",
       "    <tr>\n",
       "      <th>24</th>\n",
       "      <td>2022-01-26</td>\n",
       "      <td>819.530029</td>\n",
       "      <td>653.590027</td>\n",
       "      <td>165.940002</td>\n",
       "      <td>1</td>\n",
       "    </tr>\n",
       "    <tr>\n",
       "      <th>25</th>\n",
       "      <td>2022-01-27</td>\n",
       "      <td>1306.609985</td>\n",
       "      <td>636.869995</td>\n",
       "      <td>669.739990</td>\n",
       "      <td>1</td>\n",
       "    </tr>\n",
       "    <tr>\n",
       "      <th>26</th>\n",
       "      <td>2022-01-28</td>\n",
       "      <td>1029.780029</td>\n",
       "      <td>719.460022</td>\n",
       "      <td>310.320007</td>\n",
       "      <td>1</td>\n",
       "    </tr>\n",
       "    <tr>\n",
       "      <th>27</th>\n",
       "      <td>2022-01-29</td>\n",
       "      <td>1415.180054</td>\n",
       "      <td>387.489990</td>\n",
       "      <td>1027.689941</td>\n",
       "      <td>1</td>\n",
       "    </tr>\n",
       "    <tr>\n",
       "      <th>28</th>\n",
       "      <td>2022-01-30</td>\n",
       "      <td>845.380005</td>\n",
       "      <td>533.929993</td>\n",
       "      <td>311.450012</td>\n",
       "      <td>1</td>\n",
       "    </tr>\n",
       "    <tr>\n",
       "      <th>29</th>\n",
       "      <td>2022-01-31</td>\n",
       "      <td>764.690002</td>\n",
       "      <td>762.349976</td>\n",
       "      <td>2.340000</td>\n",
       "      <td>1</td>\n",
       "    </tr>\n",
       "    <tr>\n",
       "      <th>364</th>\n",
       "      <td>2023-01-01</td>\n",
       "      <td>832.700012</td>\n",
       "      <td>664.409973</td>\n",
       "      <td>168.289993</td>\n",
       "      <td>1</td>\n",
       "    </tr>\n",
       "  </tbody>\n",
       "</table>\n",
       "</div>"
      ],
      "text/plain": [
       "          date      revenue     expense       profit  month\n",
       "0   2022-01-02  1498.939941  430.640015  1068.300049      1\n",
       "1   2022-01-03   935.080017  329.320007   605.760010      1\n",
       "2   2022-01-04  1350.959961  562.489990   788.469971      1\n",
       "3   2022-01-05  1244.329956  679.320007   565.010010      1\n",
       "4   2022-01-06  1132.989990  439.799988   693.190002      1\n",
       "5   2022-01-07  1158.310059  336.119995   822.190002      1\n",
       "6   2022-01-08  1184.660034  516.099976   668.559998      1\n",
       "7   2022-01-09   637.320007  635.059998     2.260000      1\n",
       "8   2022-01-10  1315.209961  560.119995   755.090027      1\n",
       "9   2022-01-11  1093.060059  540.049988   553.010010      1\n",
       "10  2022-01-12  1477.770020  487.160004   990.609985      1\n",
       "11  2022-01-13  1076.089966  616.289978   459.799988      1\n",
       "12  2022-01-14  1130.959961  392.170013   738.789978      1\n",
       "13  2022-01-15   846.419983  548.380005   298.040009      1\n",
       "14  2022-01-16  1182.349976  366.720001   815.630005      1\n",
       "15  2022-01-17  1046.609985  481.559998   565.049988      1\n",
       "16  2022-01-18   601.650024  452.750000   148.899994      1\n",
       "17  2022-01-19   798.330017  351.230011   447.100006      1\n",
       "18  2022-01-20  1499.369995  340.850006  1158.520020      1\n",
       "19  2022-01-21  1462.260010  630.309998   831.950012      1\n",
       "20  2022-01-22  1447.380005  476.589996   970.789978      1\n",
       "21  2022-01-23  1194.959961  482.850006   712.109985      1\n",
       "22  2022-01-24   713.109985  754.330017   -41.220001      1\n",
       "23  2022-01-25  1084.479980  547.369995   537.109985      1\n",
       "24  2022-01-26   819.530029  653.590027   165.940002      1\n",
       "25  2022-01-27  1306.609985  636.869995   669.739990      1\n",
       "26  2022-01-28  1029.780029  719.460022   310.320007      1\n",
       "27  2022-01-29  1415.180054  387.489990  1027.689941      1\n",
       "28  2022-01-30   845.380005  533.929993   311.450012      1\n",
       "29  2022-01-31   764.690002  762.349976     2.340000      1\n",
       "364 2023-01-01   832.700012  664.409973   168.289993      1"
      ]
     },
     "execution_count": 66,
     "metadata": {},
     "output_type": "execute_result"
    }
   ],
   "source": [
    "k2[k2['month'] == 1]"
   ]
  },
  {
   "cell_type": "code",
   "execution_count": 75,
   "id": "10182851",
   "metadata": {},
   "outputs": [
    {
     "data": {
      "application/vnd.microsoft.datawrangler.viewer.v0+json": {
       "columns": [
        {
         "name": "index",
         "rawType": "int64",
         "type": "integer"
        },
        {
         "name": "month",
         "rawType": "object",
         "type": "string"
        },
        {
         "name": "revenue",
         "rawType": "float64",
         "type": "float"
        },
        {
         "name": "expense",
         "rawType": "float64",
         "type": "float"
        },
        {
         "name": "opexp",
         "rawType": "float64",
         "type": "float"
        },
        {
         "name": "nonopexp",
         "rawType": "float64",
         "type": "float"
        }
       ],
       "ref": "8b1cc1c3-3acc-42da-aaf7-32baaa99feef",
       "rows": [
        [
         "0",
         "january",
         "15989.6396484375",
         "14231.73046875",
         "10340.0302734375",
         "4891.7001953125"
        ],
        [
         "1",
         "february",
         "15832.76953125",
         "11677.83984375",
         "7006.6899414062",
         "8661.150390625"
        ],
        [
         "2",
         "march",
         "16481.26953125",
         "14664.0302734375",
         "8797.419921875",
         "7866.6098632812"
        ],
        [
         "3",
         "april",
         "18229.380859375",
         "12336.51953125",
         "7401.91015625",
         "2934.6101074219"
        ],
        [
         "4",
         "may",
         "17401.7890625",
         "11160.6103515625",
         "4296.3701171875",
         "4864.240234375"
        ],
        [
         "5",
         "june",
         "18274.029296875",
         "12311.6103515625",
         "7386.9599609375",
         "9924.650390625"
        ],
        [
         "6",
         "july",
         "19349.98046875",
         "15431.8095703125",
         "9258.08984375",
         "7173.7202148438"
        ],
        [
         "7",
         "august",
         "16647.2890625",
         "13213.7099609375",
         "3127.8200683594",
         "5085.8901367188"
        ],
        [
         "8",
         "september",
         "19344.0703125",
         "17405.919921875",
         "10443.5498046875",
         "4962.3701171875"
        ],
        [
         "9",
         "october",
         "21160.220703125",
         "12990.580078125",
         "3594.3500976562",
         "9396.23046875"
        ],
        [
         "10",
         "november",
         "22655.029296875",
         "17140.80078125",
         "10284.48046875",
         "3856.3200683594"
        ],
        [
         "11",
         "december",
         "17757.75",
         "15266.9697265625",
         "9160.1796875",
         "4106.7900390625"
        ]
       ],
       "shape": {
        "columns": 5,
        "rows": 12
       }
      },
      "text/html": [
       "<div>\n",
       "<style scoped>\n",
       "    .dataframe tbody tr th:only-of-type {\n",
       "        vertical-align: middle;\n",
       "    }\n",
       "\n",
       "    .dataframe tbody tr th {\n",
       "        vertical-align: top;\n",
       "    }\n",
       "\n",
       "    .dataframe thead th {\n",
       "        text-align: right;\n",
       "    }\n",
       "</style>\n",
       "<table border=\"1\" class=\"dataframe\">\n",
       "  <thead>\n",
       "    <tr style=\"text-align: right;\">\n",
       "      <th></th>\n",
       "      <th>month</th>\n",
       "      <th>revenue</th>\n",
       "      <th>expense</th>\n",
       "      <th>opexp</th>\n",
       "      <th>nonopexp</th>\n",
       "    </tr>\n",
       "  </thead>\n",
       "  <tbody>\n",
       "    <tr>\n",
       "      <th>0</th>\n",
       "      <td>january</td>\n",
       "      <td>15989.639648</td>\n",
       "      <td>14231.730469</td>\n",
       "      <td>10340.030273</td>\n",
       "      <td>4891.700195</td>\n",
       "    </tr>\n",
       "    <tr>\n",
       "      <th>1</th>\n",
       "      <td>february</td>\n",
       "      <td>15832.769531</td>\n",
       "      <td>11677.839844</td>\n",
       "      <td>7006.689941</td>\n",
       "      <td>8661.150391</td>\n",
       "    </tr>\n",
       "    <tr>\n",
       "      <th>2</th>\n",
       "      <td>march</td>\n",
       "      <td>16481.269531</td>\n",
       "      <td>14664.030273</td>\n",
       "      <td>8797.419922</td>\n",
       "      <td>7866.609863</td>\n",
       "    </tr>\n",
       "    <tr>\n",
       "      <th>3</th>\n",
       "      <td>april</td>\n",
       "      <td>18229.380859</td>\n",
       "      <td>12336.519531</td>\n",
       "      <td>7401.910156</td>\n",
       "      <td>2934.610107</td>\n",
       "    </tr>\n",
       "    <tr>\n",
       "      <th>4</th>\n",
       "      <td>may</td>\n",
       "      <td>17401.789062</td>\n",
       "      <td>11160.610352</td>\n",
       "      <td>4296.370117</td>\n",
       "      <td>4864.240234</td>\n",
       "    </tr>\n",
       "    <tr>\n",
       "      <th>5</th>\n",
       "      <td>june</td>\n",
       "      <td>18274.029297</td>\n",
       "      <td>12311.610352</td>\n",
       "      <td>7386.959961</td>\n",
       "      <td>9924.650391</td>\n",
       "    </tr>\n",
       "    <tr>\n",
       "      <th>6</th>\n",
       "      <td>july</td>\n",
       "      <td>19349.980469</td>\n",
       "      <td>15431.809570</td>\n",
       "      <td>9258.089844</td>\n",
       "      <td>7173.720215</td>\n",
       "    </tr>\n",
       "    <tr>\n",
       "      <th>7</th>\n",
       "      <td>august</td>\n",
       "      <td>16647.289062</td>\n",
       "      <td>13213.709961</td>\n",
       "      <td>3127.820068</td>\n",
       "      <td>5085.890137</td>\n",
       "    </tr>\n",
       "    <tr>\n",
       "      <th>8</th>\n",
       "      <td>september</td>\n",
       "      <td>19344.070312</td>\n",
       "      <td>17405.919922</td>\n",
       "      <td>10443.549805</td>\n",
       "      <td>4962.370117</td>\n",
       "    </tr>\n",
       "    <tr>\n",
       "      <th>9</th>\n",
       "      <td>october</td>\n",
       "      <td>21160.220703</td>\n",
       "      <td>12990.580078</td>\n",
       "      <td>3594.350098</td>\n",
       "      <td>9396.230469</td>\n",
       "    </tr>\n",
       "    <tr>\n",
       "      <th>10</th>\n",
       "      <td>november</td>\n",
       "      <td>22655.029297</td>\n",
       "      <td>17140.800781</td>\n",
       "      <td>10284.480469</td>\n",
       "      <td>3856.320068</td>\n",
       "    </tr>\n",
       "    <tr>\n",
       "      <th>11</th>\n",
       "      <td>december</td>\n",
       "      <td>17757.750000</td>\n",
       "      <td>15266.969727</td>\n",
       "      <td>9160.179688</td>\n",
       "      <td>4106.790039</td>\n",
       "    </tr>\n",
       "  </tbody>\n",
       "</table>\n",
       "</div>"
      ],
      "text/plain": [
       "        month       revenue       expense         opexp     nonopexp\n",
       "0     january  15989.639648  14231.730469  10340.030273  4891.700195\n",
       "1    february  15832.769531  11677.839844   7006.689941  8661.150391\n",
       "2       march  16481.269531  14664.030273   8797.419922  7866.609863\n",
       "3       april  18229.380859  12336.519531   7401.910156  2934.610107\n",
       "4         may  17401.789062  11160.610352   4296.370117  4864.240234\n",
       "5        june  18274.029297  12311.610352   7386.959961  9924.650391\n",
       "6        july  19349.980469  15431.809570   9258.089844  7173.720215\n",
       "7      august  16647.289062  13213.709961   3127.820068  5085.890137\n",
       "8   september  19344.070312  17405.919922  10443.549805  4962.370117\n",
       "9     october  21160.220703  12990.580078   3594.350098  9396.230469\n",
       "10   november  22655.029297  17140.800781  10284.480469  3856.320068\n",
       "11   december  17757.750000  15266.969727   9160.179688  4106.790039"
      ]
     },
     "execution_count": 75,
     "metadata": {},
     "output_type": "execute_result"
    }
   ],
   "source": [
    "k1"
   ]
  }
 ],
 "metadata": {
  "kernelspec": {
   "display_name": "MLenv",
   "language": "python",
   "name": "python3"
  },
  "language_info": {
   "codemirror_mode": {
    "name": "ipython",
    "version": 3
   },
   "file_extension": ".py",
   "mimetype": "text/x-python",
   "name": "python",
   "nbconvert_exporter": "python",
   "pygments_lexer": "ipython3",
   "version": "3.12.3"
  }
 },
 "nbformat": 4,
 "nbformat_minor": 5
}
